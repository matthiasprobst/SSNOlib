{
 "cells": [
  {
   "cell_type": "markdown",
   "id": "9329f864-d401-4ae2-a5ae-697f7629a54d",
   "metadata": {},
   "source": [
    "# Standard Name Table\n",
    "\n",
    "A standard name table defines standard names. Those names are intended to be used in a file. To describe them propertly, a JSON-LD file describing the standard name table is recommended.\n",
    "\n",
    "The cf-convention is based on the principle. Let's describe their table:"
   ]
  },
  {
   "cell_type": "code",
   "execution_count": 1,
   "id": "d8f1bebc-629e-4fd4-8cbd-0b50d733d71d",
   "metadata": {},
   "outputs": [],
   "source": [
    "import ssnolib"
   ]
  },
  {
   "cell_type": "markdown",
   "id": "86879d3b-8273-40f9-8f9b-fb6e318f46bd",
   "metadata": {},
   "source": [
    "Create a distribution object (downloadable XML file containing the standard name table)"
   ]
  },
  {
   "cell_type": "code",
   "execution_count": 3,
   "id": "18468912-994f-40b2-960e-12e8c434220c",
   "metadata": {},
   "outputs": [],
   "source": [
    "distribution = ssnolib.dcat.Distribution(\n",
    "    title='XML Table',\n",
    "    download_URL='http://cfconventions.org/Data/cf-standard-names/current/src/cf-standard-name-table.xml',\n",
    "    media_type='application/xml'\n",
    ")"
   ]
  },
  {
   "cell_type": "markdown",
   "id": "ad0555dd-f7bf-466a-8432-b22e75490875",
   "metadata": {},
   "source": [
    "Create a standard name table object"
   ]
  },
  {
   "cell_type": "code",
   "execution_count": 4,
   "id": "c3f81b35-9d4c-40af-aecf-a18f3d199ab8",
   "metadata": {},
   "outputs": [],
   "source": [
    "snt = ssnolib.StandardNameTable(title='CF Standard Name Table (latest version)',\n",
    "                                distribution=distribution)"
   ]
  },
  {
   "cell_type": "markdown",
   "id": "58f36954-ac4b-4518-a7b1-a9c5f9ba38ad",
   "metadata": {},
   "source": [
    "Dump the objects as JSON-LD:"
   ]
  },
  {
   "cell_type": "code",
   "execution_count": 6,
   "id": "146140ca-1ef1-43be-a354-351af82818e3",
   "metadata": {},
   "outputs": [
    {
     "name": "stdout",
     "output_type": "stream",
     "text": [
      "{\n",
      "    \"@context\": {\n",
      "        \"owl\": \"http://www.w3.org/2002/07/owl#\",\n",
      "        \"rdfs\": \"http://www.w3.org/2000/01/rdf-schema#\",\n",
      "        \"dcat\": \"http://www.w3.org/ns/dcat#\",\n",
      "        \"dcterms\": \"http://purl.org/dc/terms/\",\n",
      "        \"prov\": \"http://www.w3.org/ns/prov#\",\n",
      "        \"ssno\": \"https://matthiasprobst.github.io/ssno#\"\n",
      "    },\n",
      "    \"@type\": \"ssno:StandardNameTable\",\n",
      "    \"dcterms:title\": \"CF Standard Name Table (latest version)\",\n",
      "    \"dcat:distribution\": [\n",
      "        {\n",
      "            \"@type\": \"dcat:Distribution\",\n",
      "            \"dcterms:title\": \"XML Table\",\n",
      "            \"dcat:downloadURL\": \"http://cfconventions.org/Data/cf-standard-names/current/src/cf-standard-name-table.xml\",\n",
      "            \"dcat:mediaType\": \"https://www.iana.org/assignments/media-types/application/xml\",\n",
      "            \"@id\": \"_:N7ff2f4b12cb5456fa7e1f95d070de844\"\n",
      "        }\n",
      "    ],\n",
      "    \"@id\": \"_:N999b0e57f50d44deb2c6f53b29609353\"\n",
      "}\n"
     ]
    }
   ],
   "source": [
    "print(snt.model_dump_jsonld())"
   ]
  },
  {
   "cell_type": "code",
   "execution_count": null,
   "id": "7aa4c310-58e4-45ee-b39f-861c75ddc261",
   "metadata": {},
   "outputs": [],
   "source": []
  }
 ],
 "metadata": {
  "kernelspec": {
   "display_name": "Python 3 (ipykernel)",
   "language": "python",
   "name": "python3"
  },
  "language_info": {
   "codemirror_mode": {
    "name": "ipython",
    "version": 3
   },
   "file_extension": ".py",
   "mimetype": "text/x-python",
   "name": "python",
   "nbconvert_exporter": "python",
   "pygments_lexer": "ipython3",
   "version": "3.8.19"
  }
 },
 "nbformat": 4,
 "nbformat_minor": 5
}
