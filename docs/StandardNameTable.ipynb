{
 "cells": [
  {
   "cell_type": "markdown",
   "id": "9329f864-d401-4ae2-a5ae-697f7629a54d",
   "metadata": {},
   "source": [
    "# Standard Name Table\n",
    "\n",
    "A so-called \"standard name table\" defines \"standard names\", which is a concept used by the [CF Convention](https://cfconventions.org/).\n",
    "\n",
    "Those standard names are used to define the meaning of a numerical variable in files (typically netCDF4 files).\n",
    "\n",
    "With this library, we can describe a standard name table using JSON-LD. **Note**, that only a simplified version of the original CF Conventions is modelled!\n",
    "\n",
    "This notebook walks you through the main steps of building such a table yourself using Python:"
   ]
  },
  {
   "cell_type": "code",
   "execution_count": 1,
   "id": "d8f1bebc-629e-4fd4-8cbd-0b50d733d71d",
   "metadata": {},
   "outputs": [],
   "source": [
    "import ssnolib\n",
    "from ssnolib.namespace import SSNO\n",
    "from ssnolib.prov import Person, Organization"
   ]
  },
  {
   "cell_type": "markdown",
   "id": "1a5b6be1-fe93-4071-8ffa-421495b2d4ad",
   "metadata": {},
   "source": [
    "Let's start by instantiate a table class. We add a title and a responsible person:"
   ]
  },
  {
   "cell_type": "code",
   "execution_count": 2,
   "id": "c3f81b35-9d4c-40af-aecf-a18f3d199ab8",
   "metadata": {},
   "outputs": [],
   "source": [
    "snt = ssnolib.StandardNameTable(\n",
    "    title='SNT from scratch',\n",
    "    version='v1',\n",
    "    creator=[\n",
    "        Person(first_name=\"Matthias\", last_name=\"Probst\", orcidID=\"https://orcid.org/0000-0001-8729-0482\", id=\"https://orcid.org/0000-0001-8729-0482\"),\n",
    "        Person(first_name=\"John\", last_name=\"Doe\", ),\n",
    "    ]\n",
    ")"
   ]
  },
  {
   "cell_type": "code",
   "execution_count": 3,
   "id": "5ad73b1b-1737-466c-a3df-e0286926a581",
   "metadata": {},
   "outputs": [
    {
     "name": "stdout",
     "output_type": "stream",
     "text": [
      "{\n",
      "    \"@context\": {\n",
      "        \"owl\": \"http://www.w3.org/2002/07/owl#\",\n",
      "        \"rdfs\": \"http://www.w3.org/2000/01/rdf-schema#\",\n",
      "        \"dcat\": \"http://www.w3.org/ns/dcat#\",\n",
      "        \"dcterms\": \"http://purl.org/dc/terms/\",\n",
      "        \"prov\": \"http://www.w3.org/ns/prov#\",\n",
      "        \"ssno\": \"https://matthiasprobst.github.io/ssno#\",\n",
      "        \"foaf\": \"http://xmlns.com/foaf/0.1/\",\n",
      "        \"m4i\": \"http://w3id.org/nfdi4ing/metadata4ing#\",\n",
      "        \"schema\": \"https://schema.org/\"\n",
      "    },\n",
      "    \"@type\": \"ssno:StandardNameTable\",\n",
      "    \"dcterms:title\": \"SNT from scratch\",\n",
      "    \"dcterms:creator\": [\n",
      "        {\n",
      "            \"@type\": \"prov:Person\",\n",
      "            \"foaf:firstName\": \"Matthias\",\n",
      "            \"foaf:lastName\": \"Probst\",\n",
      "            \"orcidID\": \"https://orcid.org/0000-0001-8729-0482\",\n",
      "            \"@id\": \"https://orcid.org/0000-0001-8729-0482\"\n",
      "        },\n",
      "        {\n",
      "            \"@type\": \"prov:Person\",\n",
      "            \"foaf:firstName\": \"John\",\n",
      "            \"foaf:lastName\": \"Doe\",\n",
      "            \"@id\": \"_:N639fb8a5f68048bc9477324f6fe701fd\"\n",
      "        }\n",
      "    ],\n",
      "    \"dcat:version\": \"v1\",\n",
      "    \"ssno:hasModifier\": \"{}\",\n",
      "    \"@id\": \"_:N84340ee2c2ca4efb84a8859945f7a39f\"\n",
      "}\n"
     ]
    },
    {
     "name": "stderr",
     "output_type": "stream",
     "text": [
      "C:\\Users\\matth\\anaconda3\\envs\\ssnolib\\lib\\site-packages\\pydantic\\main.py:347: UserWarning: Pydantic serializer warnings:\n",
      "  Expected `list[Union[definition-ref, Transformation]]` but got `dict` - serialized value may not be as expected\n",
      "  return self.__pydantic_serializer__.to_python(\n"
     ]
    }
   ],
   "source": [
    "print(snt.model_dump_jsonld())"
   ]
  },
  {
   "cell_type": "markdown",
   "id": "b259d9ba-73f8-4571-ab83-9f5b507d8397",
   "metadata": {},
   "source": [
    "Let's add some standard names to the table:"
   ]
  },
  {
   "cell_type": "code",
   "execution_count": 4,
   "id": "76576ec4-3c04-4493-a513-08cc4effe3b6",
   "metadata": {},
   "outputs": [],
   "source": [
    "snt.standardNames = [\n",
    "    ssnolib.StandardName(\n",
    "        standard_name=\"air_density\",\n",
    "        description=\"The density of air\",\n",
    "        canonicalUnits=\"kg/m^3\"\n",
    "    ),\n",
    "    ssnolib.StandardName(\n",
    "        standard_name=\"coordinate\",\n",
    "        description=\"The spatial coordinate vector.\",\n",
    "        canonicalUnits=\"m\"\n",
    "    ),\n",
    "    ssnolib.StandardName(\n",
    "        standard_name=\"velocity\",\n",
    "        description=\"The velocity vector of an object or fluid.\",\n",
    "        canonicalUnits=\"m/s\"\n",
    "    )\n",
    "]"
   ]
  },
  {
   "cell_type": "markdown",
   "id": "e9ce3e58-7a7f-4dab-96c0-039086bc44d8",
   "metadata": {},
   "source": [
    "So far we only have two standard names. We can define modification rules, to build new, verified standard names. For example, \"x_velocity\" would be a reasonable new standard name for the table.\n",
    "\n",
    "So let's define such a modification rule. We call it a `Qualification`. The one we would like to define should be used directly of an already existing standard name, e.g. \"SSNO:AnyStandardName\":"
   ]
  },
  {
   "cell_type": "code",
   "execution_count": 5,
   "id": "b5446a1a-e9d1-4ae4-9bd3-6b740fb8b0e2",
   "metadata": {},
   "outputs": [],
   "source": [
    "component = ssnolib.Qualification(\n",
    "    name=\"component\",\n",
    "    hasValidValues=[\"x\", \"y\", \"z\"],\n",
    "    description=\"The component of a vector\",\n",
    "    before=SSNO.AnyStandardName\n",
    ")\n",
    "\n",
    "transformation = ssnolib.Transformation(\n",
    "    name=\"C_derivative_of_X\",\n",
    "    description=\"derivative of X with respect to distance in the component direction, which may be x, y or z.\",\n",
    "    altersUnit=\"[X]/[C]\",\n",
    "    hasCharacter=[\n",
    "        ssnolib.Character(character=\"X\", associatedWith=SSNO.AnyStandardName),\n",
    "        ssnolib.Character(character=\"C\", associatedWith=component.id),\n",
    "    ]\n",
    ")"
   ]
  },
  {
   "cell_type": "markdown",
   "id": "9098b634-0627-440a-b0bf-6eb8bb31ef35",
   "metadata": {},
   "source": [
    "Add it to the SNT:"
   ]
  },
  {
   "cell_type": "code",
   "execution_count": 6,
   "id": "e1e2f9db-38fd-4849-85eb-c7240841e90f",
   "metadata": {},
   "outputs": [],
   "source": [
    "snt.hasModifier = [component, transformation]"
   ]
  },
  {
   "cell_type": "markdown",
   "id": "ab5cfa34-1d85-414f-9fc7-c13751e3144e",
   "metadata": {},
   "source": [
    "We can check standard name strings, whether they apply to the modification rule:"
   ]
  },
  {
   "cell_type": "code",
   "execution_count": 7,
   "id": "5908af8b-eff9-4b3f-9f6f-2baac1a979b9",
   "metadata": {},
   "outputs": [
    {
     "data": {
      "text/plain": [
       "False"
      ]
     },
     "execution_count": 7,
     "metadata": {},
     "output_type": "execute_result"
    }
   ],
   "source": [
    "snt.verify_name(\"vertical_velocity\")"
   ]
  },
  {
   "cell_type": "code",
   "execution_count": 8,
   "id": "b9288dcb-0d49-481c-8e2d-f2d76df4d58a",
   "metadata": {},
   "outputs": [
    {
     "data": {
      "text/plain": [
       "True"
      ]
     },
     "execution_count": 8,
     "metadata": {},
     "output_type": "execute_result"
    }
   ],
   "source": [
    "snt.verify_name(\"x_velocity\")"
   ]
  },
  {
   "cell_type": "code",
   "execution_count": 9,
   "id": "73012529-4f91-497b-925e-a2c5cd013299",
   "metadata": {},
   "outputs": [
    {
     "data": {
      "text/plain": [
       "False"
      ]
     },
     "execution_count": 9,
     "metadata": {},
     "output_type": "execute_result"
    }
   ],
   "source": [
    "snt.verify_name(\"x_component\")"
   ]
  },
  {
   "cell_type": "markdown",
   "id": "a469096c-4c8a-4586-a359-a058c3ee0c6b",
   "metadata": {},
   "source": [
    "Also, adding new standard names can go through a verification:"
   ]
  },
  {
   "cell_type": "code",
   "execution_count": 10,
   "id": "581313cc-247b-423b-8615-ad16998cbf82",
   "metadata": {},
   "outputs": [
    {
     "data": {
      "text/html": [
       "StandardName(id=_:Ncc55ad2e36394c85bcc06b7040abb9e8, standardName=x_coordinate, canonicalUnits=http://qudt.org/vocab/unit/UNITLESS, description=N.A)"
      ],
      "text/plain": [
       "StandardName(id=_:Ncc55ad2e36394c85bcc06b7040abb9e8, standardName=x_coordinate, canonicalUnits=http://qudt.org/vocab/unit/UNITLESS, description=N.A)"
      ]
     },
     "execution_count": 10,
     "metadata": {},
     "output_type": "execute_result"
    }
   ],
   "source": [
    "snt.add_new_standard_name(\"x_coordinate\", verify=True) # verify=False will just add the standard name and interpret it as a core standard name"
   ]
  },
  {
   "cell_type": "markdown",
   "id": "5ace0482-51d0-4fd6-8aec-9cbcfe69ff1e",
   "metadata": {},
   "source": [
    "## Export standard name tables\n",
    "We can export to JSON-LD and also generate an HTML file:"
   ]
  },
  {
   "cell_type": "markdown",
   "id": "940f3b10-0650-4661-a58c-ce3a4aad5fc8",
   "metadata": {},
   "source": [
    "Export the current version of the standard name table to JSON-LD:"
   ]
  },
  {
   "cell_type": "code",
   "execution_count": 18,
   "id": "170087ca-fcfe-41c4-bcac-a985571fbc4f",
   "metadata": {},
   "outputs": [
    {
     "name": "stdout",
     "output_type": "stream",
     "text": [
      "{\n",
      "    \"@context\": {\n",
      "        \"owl\": \"http://www.w3.org/2002/07/owl#\",\n",
      "        \"rdfs\": \"http://www.w3.org/2000/01/rdf-schema#\",\n",
      "        \"dcat\": \"http://www.w3.org/ns/dcat#\",\n",
      "        \"dcterms\": \"http://purl.org/dc/terms/\",\n",
      "        \"prov\": \"http://www.w3.org/ns/prov#\",\n",
      "        \"ssno\": \"https://matthiasprobst.github.io/ssno#\",\n",
      "        \"foaf\": \"http://xmlns.com/foaf/0.1/\",\n",
      "        \"m4i\": \"http://w3id.org/nfdi4ing/metadata4ing#\",\n",
      "        \"schema\": \"http://schema.org/\",\n",
      "        \"skos\": \"http://www.w3.org/2004/02/skos/core#\"\n",
      "    },\n",
      "    \"@type\": \"ssno:StandardNameTable\",\n",
      "    \"dcterms:title\": \"SNT from scratch\",\n",
      "    \"dcterms:creator\": [\n",
      "        {\n",
      "            \"@type\": \"prov:Person\",\n",
      "            \"foaf:firstName\": \"Matthias\",\n",
      "            \"foaf:lastName\": \"Probst\",\n",
      "            \"orcidID\": \"https://orcid.org/0000-0001-8729-0482\",\n",
      "            \"@id\": \"https://orcid.org/0000-0001-8729-0482\"\n",
      "        },\n",
      "        {\n",
      "            \"@type\": \"prov:Person\",\n",
      "            \"foaf:firstName\": \"John\",\n",
      "            \"foaf:lastName\": \"Doe\",\n",
      "            \"@id\": \"_:N639fb8a5f68048bc9477324f6fe701fd\"\n",
      "        }\n",
      "    ],\n",
      "    \"dcat:version\": \"v1\",\n",
      "    \"ssno:standardNames\": [\n",
      "        {\n",
      "            \"@type\": \"ssno:StandardName\",\n",
      "            \"ssno:standardName\": \"air_density\",\n",
      "            \"ssno:canonicalUnits\": \"http://qudt.org/vocab/unit/KiloGM-PER-M3\",\n",
      "            \"ssno:description\": \"The density of air\",\n",
      "            \"@id\": \"_:Ncdad163fd6ee4a1488ac63301ae25704\"\n",
      "        },\n",
      "        {\n",
      "            \"@type\": \"ssno:StandardName\",\n",
      "            \"ssno:standardName\": \"coordinate\",\n",
      "            \"ssno:canonicalUnits\": \"http://qudt.org/vocab/unit/M\",\n",
      "            \"ssno:description\": \"The spatial coordinate vector.\",\n",
      "            \"@id\": \"_:N063158417d94437381d0377540dbfcbc\"\n",
      "        },\n",
      "        {\n",
      "            \"@type\": \"ssno:StandardName\",\n",
      "            \"ssno:standardName\": \"velocity\",\n",
      "            \"ssno:canonicalUnits\": \"http://qudt.org/vocab/unit/M-PER-SEC\",\n",
      "            \"ssno:description\": \"The velocity vector of an object or fluid.\",\n",
      "            \"@id\": \"_:Nccd3cb8c582f4a909e80778cdec903a5\"\n",
      "        }\n",
      "    ],\n",
      "    \"ssno:hasModifier\": [\n",
      "        {\n",
      "            \"@type\": \"ssno:Qualification\",\n",
      "            \"schema:name\": \"component\",\n",
      "            \"dcterms:description\": \"The component of a vector\",\n",
      "            \"ssno:before\": \"https://matthiasprobst.github.io/ssno#AnyStandardName\",\n",
      "            \"ssno:hasValidValues\": [\n",
      "                {\n",
      "                    \"@type\": \"ssno:AnnotatedValue\",\n",
      "                    \"ssno:value\": \"x\",\n",
      "                    \"ssno:annotation\": \"No description available.\",\n",
      "                    \"@id\": \"_:N5ae19b674b3f4fd9a7c3caf052d4547a\"\n",
      "                },\n",
      "                {\n",
      "                    \"@type\": \"ssno:AnnotatedValue\",\n",
      "                    \"ssno:value\": \"y\",\n",
      "                    \"ssno:annotation\": \"No description available.\",\n",
      "                    \"@id\": \"_:Nc3a8b9f41628442e8cbcaebfdff433e4\"\n",
      "                },\n",
      "                {\n",
      "                    \"@type\": \"ssno:AnnotatedValue\",\n",
      "                    \"ssno:value\": \"z\",\n",
      "                    \"ssno:annotation\": \"No description available.\",\n",
      "                    \"@id\": \"_:Ne1dd4399fe854a0ba01781a21cc75366\"\n",
      "                }\n",
      "            ],\n",
      "            \"@id\": \"_:Nda310631a33748aaa47ca84e3a3cfb21\"\n",
      "        },\n",
      "        {\n",
      "            \"@type\": \"ssno:Transformation\",\n",
      "            \"schema:name\": \"C_derivative_of_X\",\n",
      "            \"dcterms:description\": \"derivative of X with respect to distance in the component direction, which may be x, y or z.\",\n",
      "            \"ssno:unitModificationRule\": \"[X]/[C]\",\n",
      "            \"ssno:hasCharacter\": [\n",
      "                {\n",
      "                    \"@type\": \"ssno:Character\",\n",
      "                    \"character\": \"X\",\n",
      "                    \"ssno:associatedWith\": \"https://matthiasprobst.github.io/ssno#AnyStandardName\",\n",
      "                    \"@id\": \"_:Nb79cee33d1ab41b69606f6312f991afb\"\n",
      "                },\n",
      "                {\n",
      "                    \"@type\": \"ssno:Character\",\n",
      "                    \"character\": \"C\",\n",
      "                    \"ssno:associatedWith\": \"_:Nda310631a33748aaa47ca84e3a3cfb21\",\n",
      "                    \"@id\": \"_:Ncebe6bff8af24e59930f713451b61c46\"\n",
      "                }\n",
      "            ],\n",
      "            \"@id\": \"_:N0dfaf2b9c1fd4912b7c984584d1762bb\"\n",
      "        }\n",
      "    ],\n",
      "    \"@id\": \"_:N84340ee2c2ca4efb84a8859945f7a39f\"\n",
      "}\n"
     ]
    }
   ],
   "source": [
    "print(snt.model_dump_jsonld())"
   ]
  },
  {
   "cell_type": "markdown",
   "id": "c83dbbc4-2b7f-4bc0-87d8-ec856480dcb6",
   "metadata": {},
   "source": [
    "Write the HTML file:"
   ]
  },
  {
   "cell_type": "code",
   "execution_count": 17,
   "id": "65cfef36-9919-404a-8bd0-3a4b09c7d386",
   "metadata": {},
   "outputs": [
    {
     "data": {
      "text/plain": [
       "WindowsPath('tmp/SNT from scratch.html')"
      ]
     },
     "execution_count": 17,
     "metadata": {},
     "output_type": "execute_result"
    }
   ],
   "source": [
    "snt.to_html(folder=\"tmp\")"
   ]
  },
  {
   "cell_type": "code",
   "execution_count": null,
   "id": "fe05b323-d647-41e7-bc8e-f3c0cf39a4fa",
   "metadata": {},
   "outputs": [],
   "source": []
  }
 ],
 "metadata": {
  "kernelspec": {
   "display_name": "Python 3 (ipykernel)",
   "language": "python",
   "name": "python3"
  },
  "language_info": {
   "codemirror_mode": {
    "name": "ipython",
    "version": 3
   },
   "file_extension": ".py",
   "mimetype": "text/x-python",
   "name": "python",
   "nbconvert_exporter": "python",
   "pygments_lexer": "ipython3",
   "version": "3.8.19"
  }
 },
 "nbformat": 4,
 "nbformat_minor": 5
}
