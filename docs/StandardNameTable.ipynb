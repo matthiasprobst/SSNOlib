{
 "cells": [
  {
   "cell_type": "markdown",
   "id": "9329f864-d401-4ae2-a5ae-697f7629a54d",
   "metadata": {},
   "source": [
    "# Standard Name Table\n",
    "\n",
    "A so-called \"standard name table\" defines \"standard names\", which is a concept used by the [CF Convention](https://cfconventions.org/).\n",
    "\n",
    "Those standard names are used to define the meaning of a numerical variable in files (typically netCDF4 files).\n",
    "\n",
    "With this library, we can describe a standard name table using JSON-LD. **Note**, that only a simplified version of the original CF Conventions is modelled!\n",
    "\n",
    "This notebook walks you through the main steps of building such a table yourself using Python:"
   ]
  },
  {
   "cell_type": "code",
   "execution_count": 1,
   "id": "d8f1bebc-629e-4fd4-8cbd-0b50d733d71d",
   "metadata": {},
   "outputs": [],
   "source": [
    "import ssnolib\n",
    "from ssnolib.namespace import SSNO\n",
    "from ssnolib.prov import Person, Organization, Attribution\n",
    "from ontolutils.namespacelib.m4i import M4I"
   ]
  },
  {
   "cell_type": "markdown",
   "id": "1a5b6be1-fe93-4071-8ffa-421495b2d4ad",
   "metadata": {},
   "source": [
    "Let's start by instantiate a table. We add a title and one or multiple associated \"agents\", which can be persons or organizations:"
   ]
  },
  {
   "cell_type": "code",
   "execution_count": 2,
   "id": "c3f81b35-9d4c-40af-aecf-a18f3d199ab8",
   "metadata": {},
   "outputs": [],
   "source": [
    "# Create to \"Agents\", which are Persons in this case:\n",
    "agent1 = ssnolib.Person(\n",
    "    firstName=\"Matthias\",\n",
    "    lastName=\"Probst\",\n",
    "    orcidId=\"https://orcid.org/0000-0001-8729-0482\",\n",
    "    id=\"https://orcid.org/0000-0001-8729-0482\"\n",
    ")\n",
    "# Agent 2 is affiliated with an organization:\n",
    "affiliation = ssnolib.Organization(name=\"Awesome Institute\")\n",
    "agent2 = ssnolib.Person(\n",
    "    firstName=\"John\",\n",
    "    lastName=\"Doe\",\n",
    "    mbox=\"john@doe.com\",\n",
    "    affiliation=affiliation\n",
    ")\n",
    "\n",
    "# instantiate the table:\n",
    "snt = ssnolib.StandardNameTable(\n",
    "    title='SNT from scratch',\n",
    "    description=\"A table defined as part of a tutorial\",\n",
    "    version='v1',\n",
    "    qualifiedAttribution=[\n",
    "        Attribution(agent=agent1, hadRole=M4I.ContactPerson),\n",
    "        Attribution(agent=agent2, hadRole=M4I.Supervisor)\n",
    "    ]\n",
    ")"
   ]
  },
  {
   "cell_type": "code",
   "execution_count": 3,
   "id": "ce695180-c392-40f7-b091-127db525d7bc",
   "metadata": {},
   "outputs": [
    {
     "data": {
      "text/plain": [
       "WindowsPath('tmp/SNT from scratch.html')"
      ]
     },
     "execution_count": 3,
     "metadata": {},
     "output_type": "execute_result"
    }
   ],
   "source": [
    "snt.to_html(folder=\"tmp\")"
   ]
  },
  {
   "cell_type": "code",
   "execution_count": 4,
   "id": "5ad73b1b-1737-466c-a3df-e0286926a581",
   "metadata": {},
   "outputs": [
    {
     "name": "stdout",
     "output_type": "stream",
     "text": [
      "{\n",
      "    \"@context\": {\n",
      "        \"owl\": \"http://www.w3.org/2002/07/owl#\",\n",
      "        \"rdfs\": \"http://www.w3.org/2000/01/rdf-schema#\",\n",
      "        \"dcat\": \"http://www.w3.org/ns/dcat#\",\n",
      "        \"dcterms\": \"http://purl.org/dc/terms/\",\n",
      "        \"prov\": \"http://www.w3.org/ns/prov#\",\n",
      "        \"ssno\": \"https://matthiasprobst.github.io/ssno#\",\n",
      "        \"foaf\": \"http://xmlns.com/foaf/0.1/\",\n",
      "        \"m4i\": \"http://w3id.org/nfdi4ing/metadata4ing#\",\n",
      "        \"schema\": \"https://schema.org/\"\n",
      "    },\n",
      "    \"@type\": \"ssno:StandardNameTable\",\n",
      "    \"dcterms:title\": \"SNT from scratch\",\n",
      "    \"dcterms:description\": \"A table defined as part of a tutorial\",\n",
      "    \"dcat:version\": \"v1\",\n",
      "    \"prov:qualifiedAttribution\": [\n",
      "        {\n",
      "            \"@type\": \"prov:Attribution\",\n",
      "            \"prov:agent\": {\n",
      "                \"@type\": \"prov:Person\",\n",
      "                \"foaf:firstName\": \"Matthias\",\n",
      "                \"foaf:lastName\": \"Probst\",\n",
      "                \"m4i:orcidId\": \"https://orcid.org/0000-0001-8729-0482\",\n",
      "                \"@id\": \"https://orcid.org/0000-0001-8729-0482\"\n",
      "            },\n",
      "            \"prov:hadRole\": \"http://w3id.org/nfdi4ing/metadata4ing#ContactPerson\",\n",
      "            \"@id\": \"_:Nbe63a1bdee074676b782403ca1c30720\"\n",
      "        },\n",
      "        {\n",
      "            \"@type\": \"prov:Attribution\",\n",
      "            \"prov:agent\": {\n",
      "                \"@type\": \"prov:Person\",\n",
      "                \"foaf:mbox\": \"john@doe.com\",\n",
      "                \"foaf:firstName\": \"John\",\n",
      "                \"foaf:lastName\": \"Doe\",\n",
      "                \"schema:affiliation\": {\n",
      "                    \"@type\": \"prov:Organization\",\n",
      "                    \"foaf:name\": \"Awesome Institute\",\n",
      "                    \"@id\": \"_:N3e4dcafd0ae34acfbcfaebff102a2cdf\"\n",
      "                },\n",
      "                \"@id\": \"_:N32006e43787b4c8d8419e3dd3e4bda5d\"\n",
      "            },\n",
      "            \"prov:hadRole\": \"http://w3id.org/nfdi4ing/metadata4ing#Supervisor\",\n",
      "            \"@id\": \"_:N963cfb58a71941c48299dd5541bc0225\"\n",
      "        }\n",
      "    ],\n",
      "    \"ssno:standardNames\": [],\n",
      "    \"@id\": \"_:N4e7cf1b7b37640749be79315d3cc1526\"\n",
      "}\n"
     ]
    }
   ],
   "source": [
    "print(snt.model_dump_jsonld())"
   ]
  },
  {
   "cell_type": "markdown",
   "id": "b259d9ba-73f8-4571-ab83-9f5b507d8397",
   "metadata": {},
   "source": [
    "Let's add some standard names to the table:"
   ]
  },
  {
   "cell_type": "code",
   "execution_count": 5,
   "id": "76576ec4-3c04-4493-a513-08cc4effe3b6",
   "metadata": {},
   "outputs": [],
   "source": [
    "snt.standardNames = [\n",
    "    ssnolib.StandardName(\n",
    "        standard_name=\"air_density\",\n",
    "        description=\"The density of air\",\n",
    "        unit=\"kg/m^3\"\n",
    "    ),\n",
    "    ssnolib.StandardName(\n",
    "        standard_name=\"coordinate\",\n",
    "        description=\"The spatial coordinate vector.\",\n",
    "        unit=\"m\"\n",
    "    ),\n",
    "    ssnolib.StandardName(\n",
    "        standard_name=\"velocity\",\n",
    "        description=\"The velocity vector of an object or fluid.\",\n",
    "        unit=\"m/s\"\n",
    "    )\n",
    "]"
   ]
  },
  {
   "cell_type": "markdown",
   "id": "e9ce3e58-7a7f-4dab-96c0-039086bc44d8",
   "metadata": {},
   "source": [
    "So far we only have two standard names. We can define modification rules, to build new, verified standard names. For example, \"x_velocity\" would be a reasonable new standard name for the table.\n",
    "\n",
    "So let's define such a modification rule. We call it a `Qualification`. The one we would like to define should be used directly of an already existing standard name, e.g. \"SSNO:AnyStandardName\":"
   ]
  },
  {
   "cell_type": "code",
   "execution_count": 6,
   "id": "b5446a1a-e9d1-4ae4-9bd3-6b740fb8b0e2",
   "metadata": {},
   "outputs": [
    {
     "name": "stdout",
     "output_type": "stream",
     "text": [
      "associatedWith: https://matthiasprobst.github.io/ssno#AnyStandardName\n",
      "associatedWith: _:N50d697d0d0a34a21ae6bba3c6896b8a9\n"
     ]
    }
   ],
   "source": [
    "component = ssnolib.VectorQualification(\n",
    "    name=\"component\",\n",
    "    hasValidValues=[\"x\", \"y\", \"z\"],\n",
    "    description=\"The component of a vector\",\n",
    "    before=SSNO.AnyStandardName\n",
    ")\n",
    "\n",
    "transformation = ssnolib.Transformation(\n",
    "    name=\"C_derivative_of_X\",\n",
    "    description=\"derivative of X with respect to distance in the component direction, which may be x, y or z.\",\n",
    "    altersUnit=\"[X]/[C]\",\n",
    "    hasCharacter=[\n",
    "        ssnolib.Character(character=\"X\", associatedWith=SSNO.AnyStandardName),\n",
    "        ssnolib.Character(character=\"C\", associatedWith=component.id),\n",
    "    ]\n",
    ")"
   ]
  },
  {
   "cell_type": "markdown",
   "id": "9098b634-0627-440a-b0bf-6eb8bb31ef35",
   "metadata": {},
   "source": [
    "Add it to the SNT:"
   ]
  },
  {
   "cell_type": "code",
   "execution_count": 7,
   "id": "e1e2f9db-38fd-4849-85eb-c7240841e90f",
   "metadata": {},
   "outputs": [],
   "source": [
    "snt.hasModifier = [component, transformation]"
   ]
  },
  {
   "cell_type": "markdown",
   "id": "ab5cfa34-1d85-414f-9fc7-c13751e3144e",
   "metadata": {},
   "source": [
    "We can check standard name strings, whether they apply to the modification rule:"
   ]
  },
  {
   "cell_type": "code",
   "execution_count": 8,
   "id": "5908af8b-eff9-4b3f-9f6f-2baac1a979b9",
   "metadata": {},
   "outputs": [
    {
     "data": {
      "text/plain": [
       "False"
      ]
     },
     "execution_count": 8,
     "metadata": {},
     "output_type": "execute_result"
    }
   ],
   "source": [
    "snt.verify_name(\"vertical_velocity\")"
   ]
  },
  {
   "cell_type": "code",
   "execution_count": 9,
   "id": "b9288dcb-0d49-481c-8e2d-f2d76df4d58a",
   "metadata": {},
   "outputs": [
    {
     "data": {
      "text/plain": [
       "False"
      ]
     },
     "execution_count": 9,
     "metadata": {},
     "output_type": "execute_result"
    }
   ],
   "source": [
    "snt.verify_name(\"x_velocity\")"
   ]
  },
  {
   "cell_type": "code",
   "execution_count": 10,
   "id": "73012529-4f91-497b-925e-a2c5cd013299",
   "metadata": {},
   "outputs": [
    {
     "data": {
      "text/plain": [
       "False"
      ]
     },
     "execution_count": 10,
     "metadata": {},
     "output_type": "execute_result"
    }
   ],
   "source": [
    "snt.verify_name(\"x_component\")"
   ]
  },
  {
   "cell_type": "markdown",
   "id": "a469096c-4c8a-4586-a359-a058c3ee0c6b",
   "metadata": {},
   "source": [
    "Also, adding new standard names can go through a verification:"
   ]
  },
  {
   "cell_type": "code",
   "execution_count": 11,
   "id": "581313cc-247b-423b-8615-ad16998cbf82",
   "metadata": {},
   "outputs": [],
   "source": [
    "#snt.add_new_standard_name(\"x_coordinate\", verify=True) # verify=False will just add the standard name and interpret it as a core standard name"
   ]
  },
  {
   "cell_type": "markdown",
   "id": "5ace0482-51d0-4fd6-8aec-9cbcfe69ff1e",
   "metadata": {},
   "source": [
    "## Export standard name tables\n",
    "We can export to JSON-LD and also generate an HTML file:"
   ]
  },
  {
   "cell_type": "markdown",
   "id": "940f3b10-0650-4661-a58c-ce3a4aad5fc8",
   "metadata": {},
   "source": [
    "Export the current version of the standard name table to JSON-LD:"
   ]
  },
  {
   "cell_type": "code",
   "execution_count": 12,
   "id": "170087ca-fcfe-41c4-bcac-a985571fbc4f",
   "metadata": {
    "scrolled": true
   },
   "outputs": [
    {
     "name": "stdout",
     "output_type": "stream",
     "text": [
      "{\n",
      "    \"@context\": {\n",
      "        \"owl\": \"http://www.w3.org/2002/07/owl#\",\n",
      "        \"rdfs\": \"http://www.w3.org/2000/01/rdf-schema#\",\n",
      "        \"dcat\": \"http://www.w3.org/ns/dcat#\",\n",
      "        \"dcterms\": \"http://purl.org/dc/terms/\",\n",
      "        \"prov\": \"http://www.w3.org/ns/prov#\",\n",
      "        \"ssno\": \"https://matthiasprobst.github.io/ssno#\",\n",
      "        \"foaf\": \"http://xmlns.com/foaf/0.1/\",\n",
      "        \"m4i\": \"http://w3id.org/nfdi4ing/metadata4ing#\",\n",
      "        \"schema\": \"http://schema.org/\",\n",
      "        \"skos\": \"http://www.w3.org/2004/02/skos/core#\"\n",
      "    },\n",
      "    \"@type\": \"ssno:StandardNameTable\",\n",
      "    \"dcterms:title\": \"SNT from scratch\",\n",
      "    \"dcterms:description\": \"A table defined as part of a tutorial\",\n",
      "    \"dcat:version\": \"v1\",\n",
      "    \"prov:qualifiedAttribution\": [\n",
      "        {\n",
      "            \"@type\": \"prov:Attribution\",\n",
      "            \"prov:agent\": {\n",
      "                \"@type\": \"prov:Person\",\n",
      "                \"foaf:firstName\": \"Matthias\",\n",
      "                \"foaf:lastName\": \"Probst\",\n",
      "                \"m4i:orcidId\": \"https://orcid.org/0000-0001-8729-0482\",\n",
      "                \"@id\": \"https://orcid.org/0000-0001-8729-0482\"\n",
      "            },\n",
      "            \"prov:hadRole\": \"http://w3id.org/nfdi4ing/metadata4ing#ContactPerson\",\n",
      "            \"@id\": \"_:Nbe63a1bdee074676b782403ca1c30720\"\n",
      "        },\n",
      "        {\n",
      "            \"@type\": \"prov:Attribution\",\n",
      "            \"prov:agent\": {\n",
      "                \"@type\": \"prov:Person\",\n",
      "                \"foaf:mbox\": \"john@doe.com\",\n",
      "                \"foaf:firstName\": \"John\",\n",
      "                \"foaf:lastName\": \"Doe\",\n",
      "                \"schema:affiliation\": {\n",
      "                    \"@type\": \"prov:Organization\",\n",
      "                    \"foaf:name\": \"Awesome Institute\",\n",
      "                    \"@id\": \"_:N3e4dcafd0ae34acfbcfaebff102a2cdf\"\n",
      "                },\n",
      "                \"@id\": \"_:N32006e43787b4c8d8419e3dd3e4bda5d\"\n",
      "            },\n",
      "            \"prov:hadRole\": \"http://w3id.org/nfdi4ing/metadata4ing#Supervisor\",\n",
      "            \"@id\": \"_:N963cfb58a71941c48299dd5541bc0225\"\n",
      "        }\n",
      "    ],\n",
      "    \"ssno:standardNames\": [\n",
      "        {\n",
      "            \"@type\": \"ssno:StandardName\",\n",
      "            \"ssno:standardName\": \"air_density\",\n",
      "            \"ssno:unit\": \"http://qudt.org/vocab/unit/KiloGM-PER-M3\",\n",
      "            \"ssno:description\": \"The density of air\",\n",
      "            \"@id\": \"_:N02ca7abe9cc0468f91a59fa2ddd32cfb\"\n",
      "        },\n",
      "        {\n",
      "            \"@type\": \"ssno:StandardName\",\n",
      "            \"ssno:standardName\": \"coordinate\",\n",
      "            \"ssno:unit\": \"http://qudt.org/vocab/unit/M\",\n",
      "            \"ssno:description\": \"The spatial coordinate vector.\",\n",
      "            \"@id\": \"_:Nb39153f1a9aa4a1fbb9cb4549d9e4373\"\n",
      "        },\n",
      "        {\n",
      "            \"@type\": \"ssno:StandardName\",\n",
      "            \"ssno:standardName\": \"velocity\",\n",
      "            \"ssno:unit\": \"http://qudt.org/vocab/unit/M-PER-SEC\",\n",
      "            \"ssno:description\": \"The velocity vector of an object or fluid.\",\n",
      "            \"@id\": \"_:N340bd4d571f144519d2176829022c392\"\n",
      "        }\n",
      "    ],\n",
      "    \"ssno:hasModifier\": [\n",
      "        {\n",
      "            \"@type\": \"ssno:VectorQualification\",\n",
      "            \"schema:name\": \"component\",\n",
      "            \"dcterms:description\": \"The component of a vector\",\n",
      "            \"ssno:before\": \"https://matthiasprobst.github.io/ssno#AnyStandardName\",\n",
      "            \"ssno:hasValidValues\": [\n",
      "                {\n",
      "                    \"@type\": \"ssno:AnnotatedValue\",\n",
      "                    \"ssno:value\": \"x\",\n",
      "                    \"ssno:annotation\": \"No description available.\",\n",
      "                    \"@id\": \"_:Naad2ad743b1142a3af05943e32fd33ff\"\n",
      "                },\n",
      "                {\n",
      "                    \"@type\": \"ssno:AnnotatedValue\",\n",
      "                    \"ssno:value\": \"y\",\n",
      "                    \"ssno:annotation\": \"No description available.\",\n",
      "                    \"@id\": \"_:N805a57d5fafb44c0807a76bcdbfe6e7b\"\n",
      "                },\n",
      "                {\n",
      "                    \"@type\": \"ssno:AnnotatedValue\",\n",
      "                    \"ssno:value\": \"z\",\n",
      "                    \"ssno:annotation\": \"No description available.\",\n",
      "                    \"@id\": \"_:N9a980e216a4b4525afbd5eb859a8902c\"\n",
      "                }\n",
      "            ],\n",
      "            \"@id\": \"_:N50d697d0d0a34a21ae6bba3c6896b8a9\"\n",
      "        },\n",
      "        {\n",
      "            \"@type\": \"ssno:Transformation\",\n",
      "            \"schema:name\": \"C_derivative_of_X\",\n",
      "            \"dcterms:description\": \"derivative of X with respect to distance in the component direction, which may be x, y or z.\",\n",
      "            \"ssno:altersUnit\": \"[X]/[C]\",\n",
      "            \"ssno:hasCharacter\": [\n",
      "                {\n",
      "                    \"@type\": \"ssno:Character\",\n",
      "                    \"ssno:character\": \"X\",\n",
      "                    \"ssno:associatedWith\": \"https://matthiasprobst.github.io/ssno#AnyStandardName\",\n",
      "                    \"@id\": \"_:N7e8a7b531bfd43df9cca2f3ca0aad4bf\"\n",
      "                },\n",
      "                {\n",
      "                    \"@type\": \"ssno:Character\",\n",
      "                    \"ssno:character\": \"C\",\n",
      "                    \"ssno:associatedWith\": \"_:N50d697d0d0a34a21ae6bba3c6896b8a9\",\n",
      "                    \"@id\": \"_:N34cb74304ccb4600bf49e22b279fbb6c\"\n",
      "                }\n",
      "            ],\n",
      "            \"@id\": \"_:N357e20d392004221a600be9099dc314c\"\n",
      "        }\n",
      "    ],\n",
      "    \"@id\": \"_:N4e7cf1b7b37640749be79315d3cc1526\"\n",
      "}\n"
     ]
    }
   ],
   "source": [
    "print(snt.model_dump_jsonld())"
   ]
  },
  {
   "cell_type": "markdown",
   "id": "c83dbbc4-2b7f-4bc0-87d8-ec856480dcb6",
   "metadata": {},
   "source": [
    "Write the HTML file:"
   ]
  },
  {
   "cell_type": "code",
   "execution_count": 13,
   "id": "65cfef36-9919-404a-8bd0-3a4b09c7d386",
   "metadata": {},
   "outputs": [
    {
     "data": {
      "text/plain": [
       "WindowsPath('tmp/SNT from scratch.html')"
      ]
     },
     "execution_count": 13,
     "metadata": {},
     "output_type": "execute_result"
    }
   ],
   "source": [
    "snt.to_html(folder=\"tmp\")"
   ]
  },
  {
   "cell_type": "code",
   "execution_count": 14,
   "id": "4028ba08-35d1-4d16-a09c-ab50230e4232",
   "metadata": {},
   "outputs": [],
   "source": [
    "with open(f\"tmp/{snt.title}.jsonld\", \"w\", encoding=\"utf-8\") as f:\n",
    "    f.write(snt.model_dump_jsonld())"
   ]
  },
  {
   "cell_type": "code",
   "execution_count": 15,
   "id": "28ef615c-303f-463d-b2ff-6846197e0cd3",
   "metadata": {},
   "outputs": [
    {
     "name": "stdout",
     "output_type": "stream",
     "text": [
      "{'value': 'x', 'type': 'https://matthiasprobst.github.io/ssno#AnnotatedValue', 'annotation': 'No description available.'}\n",
      "associatedWith: _:N50d697d0d0a34a21ae6bba3c6896b8a9\n",
      "associatedWith: _:N50d697d0d0a34a21ae6bba3c6896b8a9\n"
     ]
    }
   ],
   "source": [
    "sntLoaded = ssnolib.StandardNameTable.parse(f\"tmp/{snt.title}.jsonld\")"
   ]
  },
  {
   "cell_type": "code",
   "execution_count": 16,
   "id": "f107cfe2-2a09-4d51-b9a3-de7d3377f04f",
   "metadata": {},
   "outputs": [
    {
     "data": {
      "text/plain": [
       "{'id': '_:N208e8b7f9ed94aa5b80d04127ca11720',\n",
       " 'firstName': 'Matthias',\n",
       " 'lastName': 'Probst',\n",
       " 'orcidId': 'https://orcid.org/0000-0001-8729-0482',\n",
       " '@id': 'https://orcid.org/0000-0001-8729-0482',\n",
       " '@type': 'http://www.w3.org/ns/prov#Person'}"
      ]
     },
     "execution_count": 16,
     "metadata": {},
     "output_type": "execute_result"
    }
   ],
   "source": [
    "sntLoaded.qualifiedAttribution[0].agent.model_dump(exclude_none=True)"
   ]
  },
  {
   "cell_type": "code",
   "execution_count": 17,
   "id": "bd80a819-4804-4d2c-9340-aa7679fb56a2",
   "metadata": {},
   "outputs": [
    {
     "data": {
      "text/plain": [
       "[VectorQualification(id=_:N06183a56245d42e1b904f91c955345b4, name=component, description=The component of a vector, before=https://matthiasprobst.github.io/ssno#AnyStandardName, hasValidValues=[AnnotatedValue(id=_:N9bc7f52fd2b4411280b099ae3734ac17, value=x, annotation=No description available., type=https://matthiasprobst.github.io/ssno#AnnotatedValue)], type=https://matthiasprobst.github.io/ssno#VectorQualification),\n",
       " Transformation(id=_:Nac40fa3748fe433c9ea85573d7ea336b, name=C_derivative_of_X, description=derivative of X with respect to distance in the component direction, which may be x, y or z., altersUnit=[X]/[C], hasCharacter=[Character(id=_:Nfce618755c1a457f8bcff5d664b5997f, character=C, associatedWith=_:N50d697d0d0a34a21ae6bba3c6896b8a9, type=https://matthiasprobst.github.io/ssno#Character)], type=https://matthiasprobst.github.io/ssno#Transformation)]"
      ]
     },
     "execution_count": 17,
     "metadata": {},
     "output_type": "execute_result"
    }
   ],
   "source": [
    "sntLoaded.hasModifier"
   ]
  },
  {
   "cell_type": "code",
   "execution_count": 18,
   "id": "9c4d6691-3413-4e9e-8545-0fca0e82df06",
   "metadata": {},
   "outputs": [
    {
     "ename": "NameError",
     "evalue": "name 'awdadw' is not defined",
     "output_type": "error",
     "traceback": [
      "\u001b[1;31m---------------------------------------------------------------------------\u001b[0m",
      "\u001b[1;31mNameError\u001b[0m                                 Traceback (most recent call last)",
      "Cell \u001b[1;32mIn[18], line 1\u001b[0m\n\u001b[1;32m----> 1\u001b[0m \u001b[43mawdadw\u001b[49m\n",
      "\u001b[1;31mNameError\u001b[0m: name 'awdadw' is not defined"
     ]
    }
   ],
   "source": [
    "awdadw"
   ]
  },
  {
   "cell_type": "markdown",
   "id": "a0011edc-9e69-4334-9414-4f2cbe95c270",
   "metadata": {},
   "source": [
    "## From online resource\n",
    "\n",
    "Let's pare the CF Convention, which is the model role for the library: [CF Convention table](http://cfconventions.org/Data/cf-standard-names/current/src/cf-standard-name-table.xml)"
   ]
  },
  {
   "cell_type": "code",
   "execution_count": null,
   "id": "6d155de4-2837-4406-8f98-fb7fac2f223e",
   "metadata": {},
   "outputs": [],
   "source": [
    "distribution = ssnolib.dcat.Distribution(\n",
    "    title='XML Table',\n",
    "    download_URL='http://cfconventions.org/Data/cf-standard-names/current/src/cf-standard-name-table.xml',\n",
    "    media_type='application/xml'\n",
    ")"
   ]
  },
  {
   "cell_type": "code",
   "execution_count": null,
   "id": "39d16382-09b5-4f30-8472-f0b9479ee433",
   "metadata": {},
   "outputs": [],
   "source": [
    "snt = ssnolib.StandardNameTable(\n",
    "    title='CF Standard Name Table (latest version)',\n",
    "    distribution=distribution\n",
    ")"
   ]
  },
  {
   "cell_type": "code",
   "execution_count": null,
   "id": "46b362ae-add6-49a3-97f5-0989a3391379",
   "metadata": {},
   "outputs": [],
   "source": [
    "print(snt.model_dump_jsonld())"
   ]
  },
  {
   "cell_type": "markdown",
   "id": "6e341d8c-1ed8-441a-8c8d-68a5aad77e8e",
   "metadata": {},
   "source": [
    "Maybe we would like to get all the standard names. We can do this by calling `fetch()` or instantiate the standard name table using `parse()`:"
   ]
  },
  {
   "cell_type": "code",
   "execution_count": null,
   "id": "4fb565a5-b3ad-4b07-9c30-fba828c299c5",
   "metadata": {},
   "outputs": [],
   "source": [
    "from ontolutils import QUDT_UNIT\n",
    "\n",
    "additional_qudts = {\n",
    "    # other:\n",
    "    'kg m-1 s-1': QUDT_UNIT.KiloGM_PER_M_SEC,\n",
    "    'm-2 s-1': QUDT_UNIT.M2_PER_SEC,\n",
    "    'K s': QUDT_UNIT.K_SEC,\n",
    "    'W s m-2': QUDT_UNIT.W_SEC_PER_M2,\n",
    "    'N m-1': QUDT_UNIT.N_PER_M,\n",
    "    'mol mol-1': QUDT_UNIT.MOL_PER_MOL,\n",
    "    'mol/mol': QUDT_UNIT.MOL_PER_MOL,\n",
    "    'm4 s-1': QUDT_UNIT.M4_PER_SEC,\n",
    "    'K Pa s-1': QUDT_UNIT.K_PA_PER_SEC,\n",
    "    'Pa m s-1': QUDT_UNIT.PA_M_PER_SEC,\n",
    "    'radian': QUDT_UNIT.RAD,\n",
    "    'degree s-1': QUDT_UNIT.DEG_PER_SEC,\n",
    "    'Pa m s-2': QUDT_UNIT.PA_M_PER_SEC2,\n",
    "    'sr': QUDT_UNIT.SR,\n",
    "    'sr-1': QUDT_UNIT.PER_SR,\n",
    "    'm year-1': QUDT_UNIT.M_PER_YR,\n",
    "    'mol m-2 s-1 sr-1': QUDT_UNIT.MOL_PER_M2_SEC_SR,\n",
    "    'mol m-2 s-1 m-1 sr-1': QUDT_UNIT.MOL_PER_M2_SEC_M_SR,\n",
    "    'Pa-1 s-1': QUDT_UNIT.PA_PER_SEC,\n",
    "    'm-1 s-1': QUDT_UNIT.PER_M_SEC,\n",
    "    'm2 s rad-1': QUDT_UNIT.M2_SEC_PER_RAD,\n",
    "    'W/m2': QUDT_UNIT.W_PER_M2,\n",
    "    'dbar': QUDT_UNIT.DeciBAR\n",
    "}"
   ]
  },
  {
   "cell_type": "code",
   "execution_count": null,
   "id": "ff06ea2d-e511-44c1-85a6-21867fed16f3",
   "metadata": {
    "scrolled": true
   },
   "outputs": [],
   "source": [
    "snt = ssnolib.StandardNameTable.parse(snt.distribution[0], make_standard_names_lowercase=True, qudt_lookup=additional_qudts)"
   ]
  },
  {
   "cell_type": "code",
   "execution_count": null,
   "id": "3e003f97-de6f-4116-9a25-10fab90cd8b3",
   "metadata": {},
   "outputs": [],
   "source": [
    "snt.to_html(folder=\"tmp\")"
   ]
  },
  {
   "cell_type": "markdown",
   "id": "089e90b6-176b-48fe-b0dd-f0e3c1a5cf83",
   "metadata": {},
   "source": [
    "Write to JSON-LD file:"
   ]
  },
  {
   "cell_type": "code",
   "execution_count": null,
   "id": "2c1ab39c-d30d-4dbb-a1b6-94306192787c",
   "metadata": {},
   "outputs": [],
   "source": [
    "with open(f\"tmp/{snt.title}.jsonld\", \"w\", encoding=\"utf-8\") as f:\n",
    "    f.write(snt.model_dump_jsonld())"
   ]
  },
  {
   "cell_type": "markdown",
   "id": "7d89f2ba-fa2f-442b-9376-899226ae914d",
   "metadata": {},
   "source": [
    "Instantiate a Standard name table from a JSON-LD:"
   ]
  },
  {
   "cell_type": "code",
   "execution_count": null,
   "id": "dc7b621b-9bd8-4e9b-bed1-dd76fca631cc",
   "metadata": {},
   "outputs": [],
   "source": [
    "ssnolib.StandardNameTable.parse(f\"tmp/{snt.title}.jsonld\")"
   ]
  },
  {
   "cell_type": "code",
   "execution_count": null,
   "id": "ced83081-66c1-4e33-ae89-d4b0580a6a2f",
   "metadata": {},
   "outputs": [],
   "source": []
  }
 ],
 "metadata": {
  "kernelspec": {
   "display_name": "Python 3 (ipykernel)",
   "language": "python",
   "name": "python3"
  },
  "language_info": {
   "codemirror_mode": {
    "name": "ipython",
    "version": 3
   },
   "file_extension": ".py",
   "mimetype": "text/x-python",
   "name": "python",
   "nbconvert_exporter": "python",
   "pygments_lexer": "ipython3",
   "version": "3.8.19"
  }
 },
 "nbformat": 4,
 "nbformat_minor": 5
}
