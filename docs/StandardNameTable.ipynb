{
 "cells": [
  {
   "cell_type": "markdown",
   "id": "9329f864-d401-4ae2-a5ae-697f7629a54d",
   "metadata": {},
   "source": [
    "# Standard Name Table\n",
    "\n",
    "A standard name table defines standard names. Those names are intended to be used in a file. To describe them propertly, a JSON-LD file describing the standard name table is recommended.\n",
    "\n",
    "The cf-convention is based on the principle. Let's describe their table:"
   ]
  },
  {
   "cell_type": "code",
   "execution_count": 1,
   "id": "d8f1bebc-629e-4fd4-8cbd-0b50d733d71d",
   "metadata": {},
   "outputs": [],
   "source": [
    "import ssnolib\n",
    "from ssnolib.namespace import SSNO"
   ]
  },
  {
   "cell_type": "code",
   "execution_count": 2,
   "id": "b9f49052-67dd-4a4c-87b8-217d5217b11c",
   "metadata": {},
   "outputs": [],
   "source": [
    "from ssnolib.prov import Person"
   ]
  },
  {
   "cell_type": "code",
   "execution_count": 3,
   "id": "c3f81b35-9d4c-40af-aecf-a18f3d199ab8",
   "metadata": {},
   "outputs": [],
   "source": [
    "snt = ssnolib.StandardNameTable(title='SNT from scratch', creator=Person(orcidID=\"https://orcid.org/0000-0001-8729-0482\"))"
   ]
  },
  {
   "cell_type": "code",
   "execution_count": 4,
   "id": "b5446a1a-e9d1-4ae4-9bd3-6b740fb8b0e2",
   "metadata": {},
   "outputs": [],
   "source": [
    "component = ssnolib.Qualification(name=\"component\", hasValidValues=[\"x\", \"y\", \"z\"], description=\"The component of a vector\")"
   ]
  },
  {
   "cell_type": "markdown",
   "id": "c83dbbc4-2b7f-4bc0-87d8-ec856480dcb6",
   "metadata": {},
   "source": [
    "Transformation \"component_derivative_of_X\""
   ]
  },
  {
   "cell_type": "code",
   "execution_count": 5,
   "id": "65cfef36-9919-404a-8bd0-3a4b09c7d386",
   "metadata": {},
   "outputs": [
    {
     "name": "stdout",
     "output_type": "stream",
     "text": [
      "{\n",
      "    \"@context\": {\n",
      "        \"owl\": \"http://www.w3.org/2002/07/owl#\",\n",
      "        \"rdfs\": \"http://www.w3.org/2000/01/rdf-schema#\",\n",
      "        \"ssno\": \"https://matthiasprobst.github.io/ssno#\",\n",
      "        \"schema\": \"http://schema.org/\",\n",
      "        \"dcterms\": \"http://purl.org/dc/terms/\"\n",
      "    },\n",
      "    \"@type\": \"ssno:Qualification\",\n",
      "    \"schema:name\": \"component\",\n",
      "    \"dcterms:description\": \"The component of a vector\",\n",
      "    \"ssno:hasValidValues\": [\n",
      "        \"x\",\n",
      "        \"y\",\n",
      "        \"z\"\n",
      "    ],\n",
      "    \"@id\": \"_:N68c68936eed14eedb07d16fe0afc9781\"\n",
      "}\n"
     ]
    }
   ],
   "source": [
    "print(component.model_dump_jsonld())"
   ]
  },
  {
   "cell_type": "code",
   "execution_count": 6,
   "id": "a4d19d2e-c66c-4baf-a6d6-4aaad4eda44f",
   "metadata": {},
   "outputs": [],
   "source": [
    "transformation = ssnolib.Transformation(\n",
    "    name=\"C_derivative_of_X\",\n",
    "    description=\"derivative of X with respect to distance in the component direction, which may be x, y or z.\",\n",
    "    altersUnit=\"[X]/[C]\",\n",
    "    hasCharacter=[\n",
    "        ssnolib.Character(character=\"X\", associatedWith=SSNO.AnyStandardName),\n",
    "        ssnolib.Character(character=\"C\", associatedWith=component),\n",
    "    ]\n",
    ")"
   ]
  },
  {
   "cell_type": "code",
   "execution_count": 7,
   "id": "60cabc11-5b5e-40b9-a710-6dffb77dc4d6",
   "metadata": {},
   "outputs": [],
   "source": [
    "snt.definesStandardNameModification = transformation"
   ]
  },
  {
   "cell_type": "code",
   "execution_count": 8,
   "id": "36cac773-5164-4b9c-9bc4-af2725662fbc",
   "metadata": {},
   "outputs": [
    {
     "name": "stdout",
     "output_type": "stream",
     "text": [
      "{\n",
      "    \"@context\": {\n",
      "        \"owl\": \"http://www.w3.org/2002/07/owl#\",\n",
      "        \"rdfs\": \"http://www.w3.org/2000/01/rdf-schema#\",\n",
      "        \"ssno\": \"https://matthiasprobst.github.io/ssno#\",\n",
      "        \"schema\": \"http://schema.org/\",\n",
      "        \"dcterms\": \"http://purl.org/dc/terms/\"\n",
      "    },\n",
      "    \"@type\": \"ssno:Transformation\",\n",
      "    \"schema:name\": \"C_derivative_of_X\",\n",
      "    \"dcterms:description\": \"derivative of X with respect to distance in the component direction, which may be x, y or z.\",\n",
      "    \"ssno:unitModificationRule\": \"[X]/[C]\",\n",
      "    \"ssno:hasCharacter\": [\n",
      "        {\n",
      "            \"@type\": \"ssno:Character\",\n",
      "            \"ssno:character\": \"X\",\n",
      "            \"ssno:associatedWith\": \"https://matthiasprobst.github.io/ssno#AnyStandardName\",\n",
      "            \"@id\": \"_:N99f585b80a654572b8c3026f3fe0146b\"\n",
      "        },\n",
      "        {\n",
      "            \"@type\": \"ssno:Character\",\n",
      "            \"ssno:character\": \"C\",\n",
      "            \"ssno:associatedWith\": {\n",
      "                \"@type\": \"ssno:Qualification\",\n",
      "                \"schema:name\": \"component\",\n",
      "                \"dcterms:description\": \"The component of a vector\",\n",
      "                \"ssno:hasValidValues\": [\n",
      "                    \"x\",\n",
      "                    \"y\",\n",
      "                    \"z\"\n",
      "                ],\n",
      "                \"@id\": \"_:N68c68936eed14eedb07d16fe0afc9781\"\n",
      "            },\n",
      "            \"@id\": \"_:Nfaeed4044a4348f6b6f9577e48655421\"\n",
      "        }\n",
      "    ],\n",
      "    \"@id\": \"_:Ndfdab5016a8d4362acb2c578bdf7ca08\"\n",
      "}\n"
     ]
    }
   ],
   "source": [
    "print(transformation.model_dump_jsonld())"
   ]
  },
  {
   "cell_type": "markdown",
   "id": "58f36954-ac4b-4518-a7b1-a9c5f9ba38ad",
   "metadata": {},
   "source": [
    "Dump the objects as JSON-LD:"
   ]
  },
  {
   "cell_type": "code",
   "execution_count": 9,
   "id": "146140ca-1ef1-43be-a354-351af82818e3",
   "metadata": {},
   "outputs": [
    {
     "name": "stdout",
     "output_type": "stream",
     "text": [
      "{\n",
      "    \"@context\": {\n",
      "        \"owl\": \"http://www.w3.org/2002/07/owl#\",\n",
      "        \"rdfs\": \"http://www.w3.org/2000/01/rdf-schema#\",\n",
      "        \"dcat\": \"http://www.w3.org/ns/dcat#\",\n",
      "        \"dcterms\": \"http://purl.org/dc/terms/\",\n",
      "        \"prov\": \"http://www.w3.org/ns/prov#\",\n",
      "        \"ssno\": \"https://matthiasprobst.github.io/ssno#\",\n",
      "        \"foaf\": \"http://xmlns.com/foaf/0.1/\",\n",
      "        \"m4i\": \"http://w3id.org/nfdi4ing/metadata4ing#\",\n",
      "        \"schema\": \"http://schema.org/\"\n",
      "    },\n",
      "    \"@type\": \"ssno:StandardNameTable\",\n",
      "    \"dcterms:title\": \"SNT from scratch\",\n",
      "    \"dcterms:creator\": {\n",
      "        \"@type\": \"prov:Person\",\n",
      "        \"m4i:orcidId\": \"https://orcid.org/0000-0001-8729-0482\",\n",
      "        \"@id\": \"_:N0035385827d64ff9869d1efcc63683ff\"\n",
      "    },\n",
      "    \"definesStandardNameModification\": {\n",
      "        \"@type\": \"ssno:Transformation\",\n",
      "        \"schema:name\": \"C_derivative_of_X\",\n",
      "        \"dcterms:description\": \"derivative of X with respect to distance in the component direction, which may be x, y or z.\",\n",
      "        \"ssno:unitModificationRule\": \"[X]/[C]\",\n",
      "        \"ssno:hasCharacter\": [\n",
      "            {\n",
      "                \"@type\": \"ssno:Character\",\n",
      "                \"ssno:character\": \"X\",\n",
      "                \"ssno:associatedWith\": \"https://matthiasprobst.github.io/ssno#AnyStandardName\",\n",
      "                \"@id\": \"_:N99f585b80a654572b8c3026f3fe0146b\"\n",
      "            },\n",
      "            {\n",
      "                \"@type\": \"ssno:Character\",\n",
      "                \"ssno:character\": \"C\",\n",
      "                \"ssno:associatedWith\": {\n",
      "                    \"@type\": \"ssno:Qualification\",\n",
      "                    \"schema:name\": \"component\",\n",
      "                    \"dcterms:description\": \"The component of a vector\",\n",
      "                    \"ssno:hasValidValues\": [\n",
      "                        \"x\",\n",
      "                        \"y\",\n",
      "                        \"z\"\n",
      "                    ],\n",
      "                    \"@id\": \"_:N68c68936eed14eedb07d16fe0afc9781\"\n",
      "                },\n",
      "                \"@id\": \"_:Nfaeed4044a4348f6b6f9577e48655421\"\n",
      "            }\n",
      "        ],\n",
      "        \"@id\": \"_:Ndfdab5016a8d4362acb2c578bdf7ca08\"\n",
      "    },\n",
      "    \"@id\": \"_:Nc76b331086af47f88aebc3a815552b46\"\n",
      "}\n"
     ]
    }
   ],
   "source": [
    "print(snt.model_dump_jsonld())"
   ]
  },
  {
   "cell_type": "code",
   "execution_count": null,
   "id": "7aa4c310-58e4-45ee-b39f-861c75ddc261",
   "metadata": {},
   "outputs": [],
   "source": []
  }
 ],
 "metadata": {
  "kernelspec": {
   "display_name": "Python 3 (ipykernel)",
   "language": "python",
   "name": "python3"
  },
  "language_info": {
   "codemirror_mode": {
    "name": "ipython",
    "version": 3
   },
   "file_extension": ".py",
   "mimetype": "text/x-python",
   "name": "python",
   "nbconvert_exporter": "python",
   "pygments_lexer": "ipython3",
   "version": "3.8.19"
  }
 },
 "nbformat": 4,
 "nbformat_minor": 5
}
