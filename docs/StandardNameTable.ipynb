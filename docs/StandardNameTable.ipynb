{
 "cells": [
  {
   "cell_type": "markdown",
   "id": "9329f864-d401-4ae2-a5ae-697f7629a54d",
   "metadata": {},
   "source": [
    "# Standard Name Table\n",
    "\n",
    "A so-called \"standard name table\" defines \"standard names\", which is a concept used by the [CF Convention](https://cfconventions.org/).\n",
    "\n",
    "Those standard names are used to define the meaning of a numerical variable in files (typically netCDF4 files).\n",
    "\n",
    "With this library, we can describe a standard name table using JSON-LD. **Note**, that only a simplified version of the original CF Conventions is modelled!\n",
    "\n",
    "This notebook walks you through the main steps of building such a table yourself using Python:"
   ]
  },
  {
   "cell_type": "code",
   "execution_count": 1,
   "id": "d8f1bebc-629e-4fd4-8cbd-0b50d733d71d",
   "metadata": {},
   "outputs": [],
   "source": [
    "import ssnolib\n",
    "from ssnolib.namespace import SSNO\n",
    "from ssnolib.prov import Person"
   ]
  },
  {
   "cell_type": "markdown",
   "id": "1a5b6be1-fe93-4071-8ffa-421495b2d4ad",
   "metadata": {},
   "source": [
    "Let's start by instantiate a table class. We add a title and a responsible person:"
   ]
  },
  {
   "cell_type": "code",
   "execution_count": 2,
   "id": "c3f81b35-9d4c-40af-aecf-a18f3d199ab8",
   "metadata": {},
   "outputs": [],
   "source": [
    "snt = ssnolib.StandardNameTable(\n",
    "    title='SNT from scratch',\n",
    "    creator=Person(orcidID=\"https://orcid.org/0000-0001-8729-0482\")\n",
    ")"
   ]
  },
  {
   "cell_type": "markdown",
   "id": "b259d9ba-73f8-4571-ab83-9f5b507d8397",
   "metadata": {},
   "source": [
    "Let's add some standard names to the table:"
   ]
  },
  {
   "cell_type": "code",
   "execution_count": 3,
   "id": "76576ec4-3c04-4493-a513-08cc4effe3b6",
   "metadata": {},
   "outputs": [],
   "source": [
    "snt.standardNames = [\n",
    "    ssnolib.StandardName(\n",
    "        standard_name=\"air_density\",\n",
    "        description=\"The density of air\",\n",
    "        canonicalUnits=\"kg/m^3\"\n",
    "    ),\n",
    "    ssnolib.StandardName(\n",
    "        standard_name=\"coordinate\",\n",
    "        description=\"The spatial coordinate vector.\",\n",
    "        canonicalUnits=\"m\"\n",
    "    ),\n",
    "    ssnolib.StandardName(\n",
    "        standard_name=\"velocity\",\n",
    "        description=\"The velocity vector of an object or fluid.\",\n",
    "        canonicalUnits=\"m/s\"\n",
    "    )\n",
    "]"
   ]
  },
  {
   "cell_type": "markdown",
   "id": "e9ce3e58-7a7f-4dab-96c0-039086bc44d8",
   "metadata": {},
   "source": [
    "So far we only have two standard names. We can define modification rules, to build new, verified standard names. For example, \"x_velocity\" would be a reasonable new standard name for the table.\n",
    "\n",
    "So let's define such a modification rule. We call it a `Qualification`. The one we would like to define should be used directly of an already existing standard name, e.g. \"SSNO:AnyStandardName\":"
   ]
  },
  {
   "cell_type": "code",
   "execution_count": 4,
   "id": "b5446a1a-e9d1-4ae4-9bd3-6b740fb8b0e2",
   "metadata": {},
   "outputs": [],
   "source": [
    "component = ssnolib.Qualification(\n",
    "    name=\"component\",\n",
    "    hasValidValues=[\"x\", \"y\", \"z\"],\n",
    "    description=\"The component of a vector\",\n",
    "    before=SSNO.AnyStandardName\n",
    ")\n",
    "\n",
    "transformation = ssnolib.Transformation(\n",
    "    name=\"C_derivative_of_X\",\n",
    "    description=\"derivative of X with respect to distance in the component direction, which may be x, y or z.\",\n",
    "    altersUnit=\"[X]/[C]\",\n",
    "    hasCharacter=[\n",
    "        ssnolib.Character(character=\"X\", associatedWith=SSNO.AnyStandardName),\n",
    "        ssnolib.Character(character=\"C\", associatedWith=component.id),\n",
    "    ]\n",
    ")"
   ]
  },
  {
   "cell_type": "markdown",
   "id": "9098b634-0627-440a-b0bf-6eb8bb31ef35",
   "metadata": {},
   "source": [
    "Add it to the SNT:"
   ]
  },
  {
   "cell_type": "code",
   "execution_count": 5,
   "id": "e1e2f9db-38fd-4849-85eb-c7240841e90f",
   "metadata": {},
   "outputs": [],
   "source": [
    "snt.hasModifier = [component, transformation]"
   ]
  },
  {
   "cell_type": "markdown",
   "id": "ab5cfa34-1d85-414f-9fc7-c13751e3144e",
   "metadata": {},
   "source": [
    "We can check standard name strings, whether they apply to the modification rule:"
   ]
  },
  {
   "cell_type": "code",
   "execution_count": 6,
   "id": "5908af8b-eff9-4b3f-9f6f-2baac1a979b9",
   "metadata": {},
   "outputs": [
    {
     "data": {
      "text/plain": [
       "False"
      ]
     },
     "execution_count": 6,
     "metadata": {},
     "output_type": "execute_result"
    }
   ],
   "source": [
    "snt.verify_name(\"vertical_velocity\")"
   ]
  },
  {
   "cell_type": "code",
   "execution_count": 7,
   "id": "b9288dcb-0d49-481c-8e2d-f2d76df4d58a",
   "metadata": {},
   "outputs": [
    {
     "data": {
      "text/plain": [
       "True"
      ]
     },
     "execution_count": 7,
     "metadata": {},
     "output_type": "execute_result"
    }
   ],
   "source": [
    "snt.verify_name(\"x_velocity\")"
   ]
  },
  {
   "cell_type": "code",
   "execution_count": 8,
   "id": "73012529-4f91-497b-925e-a2c5cd013299",
   "metadata": {},
   "outputs": [
    {
     "data": {
      "text/plain": [
       "False"
      ]
     },
     "execution_count": 8,
     "metadata": {},
     "output_type": "execute_result"
    }
   ],
   "source": [
    "snt.verify_name(\"x_component\")"
   ]
  },
  {
   "cell_type": "code",
   "execution_count": 9,
   "id": "581313cc-247b-423b-8615-ad16998cbf82",
   "metadata": {},
   "outputs": [
    {
     "data": {
      "text/html": [
       "StandardName(id=_:N082b0aa95eec40c9a1bf83d308818a98, canonicalUnits=http://qudt.org/vocab/unit/UNITLESS, standardName=x_coordinate, description=N.A)"
      ],
      "text/plain": [
       "StandardName(id=_:N082b0aa95eec40c9a1bf83d308818a98, canonicalUnits=http://qudt.org/vocab/unit/UNITLESS, standardName=x_coordinate, description=N.A)"
      ]
     },
     "execution_count": 9,
     "metadata": {},
     "output_type": "execute_result"
    }
   ],
   "source": [
    "snt.add_new_standard_name(\"x_coordinate\", verify=True) # verify=False will just add the standard name and interpret it as a core standard name"
   ]
  },
  {
   "cell_type": "code",
   "execution_count": null,
   "id": "16ab22c5-3a8b-4aff-9906-8fc794a72d1e",
   "metadata": {},
   "outputs": [],
   "source": []
  },
  {
   "cell_type": "markdown",
   "id": "6186ae11-fbb1-4d7c-8eb5-1c30482e3995",
   "metadata": {},
   "source": [
    "We can add more qualifications and also transformations. More on this in a separate chapter further below."
   ]
  },
  {
   "cell_type": "markdown",
   "id": "940f3b10-0650-4661-a58c-ce3a4aad5fc8",
   "metadata": {},
   "source": [
    "Now, let's export the current version of the standard name table to JSON-LD:"
   ]
  },
  {
   "cell_type": "code",
   "execution_count": 10,
   "id": "170087ca-fcfe-41c4-bcac-a985571fbc4f",
   "metadata": {},
   "outputs": [
    {
     "name": "stdout",
     "output_type": "stream",
     "text": [
      "{\n",
      "    \"@context\": {\n",
      "        \"owl\": \"http://www.w3.org/2002/07/owl#\",\n",
      "        \"rdfs\": \"http://www.w3.org/2000/01/rdf-schema#\",\n",
      "        \"dcat\": \"http://www.w3.org/ns/dcat#\",\n",
      "        \"dcterms\": \"http://purl.org/dc/terms/\",\n",
      "        \"prov\": \"http://www.w3.org/ns/prov#\",\n",
      "        \"ssno\": \"https://matthiasprobst.github.io/ssno#\",\n",
      "        \"foaf\": \"http://xmlns.com/foaf/0.1/\",\n",
      "        \"m4i\": \"http://w3id.org/nfdi4ing/metadata4ing#\",\n",
      "        \"schema\": \"http://schema.org/\",\n",
      "        \"skos\": \"http://www.w3.org/2004/02/skos/core#\"\n",
      "    },\n",
      "    \"@type\": \"ssno:StandardNameTable\",\n",
      "    \"dcterms:title\": \"SNT from scratch\",\n",
      "    \"dcterms:creator\": {\n",
      "        \"@type\": \"prov:Person\",\n",
      "        \"orcidID\": \"https://orcid.org/0000-0001-8729-0482\",\n",
      "        \"@id\": \"_:Nf1f8defb731d4c239391b017ae0da3a5\"\n",
      "    },\n",
      "    \"ssno:standardNames\": [\n",
      "        {\n",
      "            \"@type\": \"ssno:StandardName\",\n",
      "            \"ssno:canonicalUnits\": \"http://qudt.org/vocab/unit/KiloGM-PER-M3\",\n",
      "            \"ssno:standardName\": \"air_density\",\n",
      "            \"ssno:description\": \"The density of air\",\n",
      "            \"@id\": \"_:N4c7d3a1db87b42c3a57d1932a53bb395\"\n",
      "        },\n",
      "        {\n",
      "            \"@type\": \"ssno:StandardName\",\n",
      "            \"ssno:canonicalUnits\": \"http://qudt.org/vocab/unit/M\",\n",
      "            \"ssno:standardName\": \"coordinate\",\n",
      "            \"ssno:description\": \"The spatial coordinate vector.\",\n",
      "            \"@id\": \"_:Nbe36446d3dcf40959bb0cef8be6f97b0\"\n",
      "        },\n",
      "        {\n",
      "            \"@type\": \"ssno:StandardName\",\n",
      "            \"ssno:canonicalUnits\": \"http://qudt.org/vocab/unit/M-PER-SEC\",\n",
      "            \"ssno:standardName\": \"velocity\",\n",
      "            \"ssno:description\": \"The velocity vector of an object or fluid.\",\n",
      "            \"@id\": \"_:N9fb82339544f4413a304b1edf70a2d95\"\n",
      "        }\n",
      "    ],\n",
      "    \"ssno:hasModifier\": [\n",
      "        {\n",
      "            \"@type\": \"ssno:Qualification\",\n",
      "            \"schema:name\": \"component\",\n",
      "            \"dcterms:description\": \"The component of a vector\",\n",
      "            \"ssno:before\": \"https://matthiasprobst.github.io/ssno#AnyStandardName\",\n",
      "            \"ssno:hasValidValues\": [\n",
      "                {\n",
      "                    \"@type\": \"ssno:AnnotatedValue\",\n",
      "                    \"ssno:value\": \"x\",\n",
      "                    \"ssno:annotation\": \"No description available.\",\n",
      "                    \"@id\": \"_:N1fdd207c9acd49e09ef350e7c8dae3a6\"\n",
      "                },\n",
      "                {\n",
      "                    \"@type\": \"ssno:AnnotatedValue\",\n",
      "                    \"ssno:value\": \"y\",\n",
      "                    \"ssno:annotation\": \"No description available.\",\n",
      "                    \"@id\": \"_:Nd2d2c59628bd424a86796c40f9f1a760\"\n",
      "                },\n",
      "                {\n",
      "                    \"@type\": \"ssno:AnnotatedValue\",\n",
      "                    \"ssno:value\": \"z\",\n",
      "                    \"ssno:annotation\": \"No description available.\",\n",
      "                    \"@id\": \"_:N166915ee7dc2408aa0c5242f6183fc39\"\n",
      "                }\n",
      "            ],\n",
      "            \"@id\": \"_:N072f2479020144fbb18ce5fc04efdd01\"\n",
      "        },\n",
      "        {\n",
      "            \"@type\": \"ssno:Transformation\",\n",
      "            \"schema:name\": \"C_derivative_of_X\",\n",
      "            \"dcterms:description\": \"derivative of X with respect to distance in the component direction, which may be x, y or z.\",\n",
      "            \"ssno:unitModificationRule\": \"[X]/[C]\",\n",
      "            \"ssno:hasCharacter\": [\n",
      "                {\n",
      "                    \"@type\": \"ssno:Character\",\n",
      "                    \"character\": \"X\",\n",
      "                    \"ssno:associatedWith\": \"https://matthiasprobst.github.io/ssno#AnyStandardName\",\n",
      "                    \"@id\": \"_:N13b6938bde644227b52d899720fd02d3\"\n",
      "                },\n",
      "                {\n",
      "                    \"@type\": \"ssno:Character\",\n",
      "                    \"character\": \"C\",\n",
      "                    \"ssno:associatedWith\": \"_:N072f2479020144fbb18ce5fc04efdd01\",\n",
      "                    \"@id\": \"_:N9ef7b5f1279e4f5c8729e6051bdeb49b\"\n",
      "                }\n",
      "            ],\n",
      "            \"@id\": \"_:Nbe3844aa707d46a6a69c0091e22d4b9f\"\n",
      "        }\n",
      "    ],\n",
      "    \"@id\": \"_:Nfa1ca6a6ac8a4e61a8493e81b1190823\"\n",
      "}\n"
     ]
    }
   ],
   "source": [
    "print(snt.model_dump_jsonld())"
   ]
  },
  {
   "cell_type": "markdown",
   "id": "c83dbbc4-2b7f-4bc0-87d8-ec856480dcb6",
   "metadata": {},
   "source": [
    "Transformation \"component_derivative_of_X\""
   ]
  },
  {
   "cell_type": "code",
   "execution_count": 11,
   "id": "65cfef36-9919-404a-8bd0-3a4b09c7d386",
   "metadata": {},
   "outputs": [
    {
     "name": "stdout",
     "output_type": "stream",
     "text": [
      "{\n",
      "    \"@context\": {\n",
      "        \"owl\": \"http://www.w3.org/2002/07/owl#\",\n",
      "        \"rdfs\": \"http://www.w3.org/2000/01/rdf-schema#\",\n",
      "        \"ssno\": \"https://matthiasprobst.github.io/ssno#\",\n",
      "        \"schema\": \"http://schema.org/\",\n",
      "        \"dcterms\": \"http://purl.org/dc/terms/\"\n",
      "    },\n",
      "    \"@type\": \"ssno:Qualification\",\n",
      "    \"schema:name\": \"component\",\n",
      "    \"dcterms:description\": \"The component of a vector\",\n",
      "    \"ssno:before\": \"https://matthiasprobst.github.io/ssno#AnyStandardName\",\n",
      "    \"ssno:hasValidValues\": [\n",
      "        {\n",
      "            \"@type\": \"ssno:AnnotatedValue\",\n",
      "            \"ssno:value\": \"x\",\n",
      "            \"ssno:annotation\": \"No description available.\",\n",
      "            \"@id\": \"_:N1fdd207c9acd49e09ef350e7c8dae3a6\"\n",
      "        },\n",
      "        {\n",
      "            \"@type\": \"ssno:AnnotatedValue\",\n",
      "            \"ssno:value\": \"y\",\n",
      "            \"ssno:annotation\": \"No description available.\",\n",
      "            \"@id\": \"_:Nd2d2c59628bd424a86796c40f9f1a760\"\n",
      "        },\n",
      "        {\n",
      "            \"@type\": \"ssno:AnnotatedValue\",\n",
      "            \"ssno:value\": \"z\",\n",
      "            \"ssno:annotation\": \"No description available.\",\n",
      "            \"@id\": \"_:N166915ee7dc2408aa0c5242f6183fc39\"\n",
      "        }\n",
      "    ],\n",
      "    \"@id\": \"_:N072f2479020144fbb18ce5fc04efdd01\"\n",
      "}\n"
     ]
    }
   ],
   "source": [
    "print(component.model_dump_jsonld())"
   ]
  },
  {
   "cell_type": "code",
   "execution_count": 12,
   "id": "a4d19d2e-c66c-4baf-a6d6-4aaad4eda44f",
   "metadata": {},
   "outputs": [],
   "source": [
    "transformation = ssnolib.Transformation(\n",
    "    name=\"C_derivative_of_X\",\n",
    "    description=\"derivative of X with respect to distance in the component direction, which may be x, y or z.\",\n",
    "    altersUnit=\"[X]/[C]\",\n",
    "    hasCharacter=[\n",
    "        ssnolib.Character(character=\"X\", associatedWith=SSNO.AnyStandardName),\n",
    "        ssnolib.Character(character=\"C\", associatedWith=component.id),\n",
    "    ]\n",
    ")"
   ]
  },
  {
   "cell_type": "code",
   "execution_count": 13,
   "id": "1c60f208-0124-432b-b556-90d68beddf63",
   "metadata": {},
   "outputs": [
    {
     "name": "stdout",
     "output_type": "stream",
     "text": [
      "{\n",
      "    \"@context\": {\n",
      "        \"owl\": \"http://www.w3.org/2002/07/owl#\",\n",
      "        \"rdfs\": \"http://www.w3.org/2000/01/rdf-schema#\",\n",
      "        \"ssno\": \"https://matthiasprobst.github.io/ssno#\",\n",
      "        \"schema\": \"http://schema.org/\",\n",
      "        \"dcterms\": \"http://purl.org/dc/terms/\"\n",
      "    },\n",
      "    \"@type\": \"ssno:Transformation\",\n",
      "    \"schema:name\": \"C_derivative_of_X\",\n",
      "    \"dcterms:description\": \"derivative of X with respect to distance in the component direction, which may be x, y or z.\",\n",
      "    \"ssno:unitModificationRule\": \"[X]/[C]\",\n",
      "    \"ssno:hasCharacter\": [\n",
      "        {\n",
      "            \"@type\": \"ssno:Character\",\n",
      "            \"character\": \"X\",\n",
      "            \"ssno:associatedWith\": \"https://matthiasprobst.github.io/ssno#AnyStandardName\",\n",
      "            \"@id\": \"_:Ne2eef7645dcf4d729dc53a945b377c2b\"\n",
      "        },\n",
      "        {\n",
      "            \"@type\": \"ssno:Character\",\n",
      "            \"character\": \"C\",\n",
      "            \"ssno:associatedWith\": \"_:N072f2479020144fbb18ce5fc04efdd01\",\n",
      "            \"@id\": \"_:Ne537dacdda3c4ca78335864301515457\"\n",
      "        }\n",
      "    ],\n",
      "    \"@id\": \"_:N0f99b9d34f694934b8d7d657c6b8d59e\"\n",
      "}\n"
     ]
    }
   ],
   "source": [
    "print(transformation.model_dump_jsonld())"
   ]
  },
  {
   "cell_type": "code",
   "execution_count": 14,
   "id": "60cabc11-5b5e-40b9-a710-6dffb77dc4d6",
   "metadata": {},
   "outputs": [],
   "source": [
    "snt.hasModifier = [component, ]"
   ]
  },
  {
   "cell_type": "code",
   "execution_count": 15,
   "id": "ef14d5aa-eb8b-4ea7-a531-18e584e0c31c",
   "metadata": {},
   "outputs": [],
   "source": [
    "snt.standard_names = [ssnolib.StandardName(standardName=\"velocity\", canonicalUnits=\"m/s\", description=\"Velocity\"),]"
   ]
  },
  {
   "cell_type": "code",
   "execution_count": 16,
   "id": "9d55a4fb-b2c0-4140-be84-1056812efe17",
   "metadata": {},
   "outputs": [
    {
     "data": {
      "text/html": [
       "StandardName(id=_:N17f5049d3c184353a0140b70d525a2d1, canonicalUnits=http://qudt.org/vocab/unit/M-PER-SEC, standardName=velocity, description=Velocity)"
      ],
      "text/plain": [
       "StandardName(id=_:N17f5049d3c184353a0140b70d525a2d1, canonicalUnits=http://qudt.org/vocab/unit/M-PER-SEC, standardName=velocity, description=Velocity)"
      ]
     },
     "execution_count": 16,
     "metadata": {},
     "output_type": "execute_result"
    }
   ],
   "source": [
    "snt.standard_names[0]"
   ]
  },
  {
   "cell_type": "code",
   "execution_count": 17,
   "id": "bd4dda35-d724-4218-a62e-633e291d9852",
   "metadata": {},
   "outputs": [
    {
     "ename": "AttributeError",
     "evalue": "'str' object has no attribute 'standardName'",
     "output_type": "error",
     "traceback": [
      "\u001b[1;31m---------------------------------------------------------------------------\u001b[0m",
      "\u001b[1;31mAttributeError\u001b[0m                            Traceback (most recent call last)",
      "Cell \u001b[1;32mIn[17], line 1\u001b[0m\n\u001b[1;32m----> 1\u001b[0m \u001b[43msnt\u001b[49m\u001b[38;5;241;43m.\u001b[39;49m\u001b[43mverify\u001b[49m\u001b[43m(\u001b[49m\u001b[38;5;124;43m\"\u001b[39;49m\u001b[38;5;124;43mx_velocity\u001b[39;49m\u001b[38;5;124;43m\"\u001b[39;49m\u001b[43m)\u001b[49m\n",
      "File \u001b[1;32m~\\Documents\\GitHub\\ssnolib\\ssnolib\\standard_name_table.py:266\u001b[0m, in \u001b[0;36mStandardNameTable.verify\u001b[1;34m(self, standard_name)\u001b[0m\n\u001b[0;32m    264\u001b[0m \u001b[38;5;66;03m# first some technical checks: must not start with a \"_\" etc.\u001b[39;00m\n\u001b[0;32m    265\u001b[0m general_pattern \u001b[38;5;241m=\u001b[39m \u001b[38;5;124mr\u001b[39m\u001b[38;5;124m'\u001b[39m\u001b[38;5;124m^[a-z]+(?:_[a-z]+)*$\u001b[39m\u001b[38;5;124m'\u001b[39m\n\u001b[1;32m--> 266\u001b[0m \u001b[38;5;28;01mif\u001b[39;00m \u001b[38;5;129;01mnot\u001b[39;00m re\u001b[38;5;241m.\u001b[39mmatch(general_pattern, \u001b[43mstandard_name\u001b[49m\u001b[38;5;241;43m.\u001b[39;49m\u001b[43mstandardName\u001b[49m):\n\u001b[0;32m    267\u001b[0m     \u001b[38;5;28mprint\u001b[39m(\u001b[38;5;124m\"\u001b[39m\u001b[38;5;124mGeneral pattern not matched. Must be lowercase and parts may be separated by \u001b[39m\u001b[38;5;124m'\u001b[39m\u001b[38;5;124m_\u001b[39m\u001b[38;5;124m'\u001b[39m\u001b[38;5;124m.\u001b[39m\u001b[38;5;124m\"\u001b[39m)\n\u001b[0;32m    268\u001b[0m     \u001b[38;5;28;01mreturn\u001b[39;00m \u001b[38;5;28;01mFalse\u001b[39;00m\n",
      "\u001b[1;31mAttributeError\u001b[0m: 'str' object has no attribute 'standardName'"
     ]
    }
   ],
   "source": [
    "snt.verify(\"x_velocity\")"
   ]
  },
  {
   "cell_type": "code",
   "execution_count": null,
   "id": "03fe58d6-63ed-4128-abdd-08e45164e59c",
   "metadata": {},
   "outputs": [],
   "source": [
    "snt.get_qualification_rule_as_string()"
   ]
  },
  {
   "cell_type": "markdown",
   "id": "58f36954-ac4b-4518-a7b1-a9c5f9ba38ad",
   "metadata": {},
   "source": [
    "Dump the objects as JSON-LD:"
   ]
  },
  {
   "cell_type": "code",
   "execution_count": null,
   "id": "146140ca-1ef1-43be-a354-351af82818e3",
   "metadata": {},
   "outputs": [],
   "source": [
    "print(snt.model_dump_jsonld())"
   ]
  },
  {
   "cell_type": "code",
   "execution_count": null,
   "id": "7aa4c310-58e4-45ee-b39f-861c75ddc261",
   "metadata": {},
   "outputs": [],
   "source": [
    "import re\n",
    "\n",
    "# Define the regex pattern\n",
    "pattern = r\"^((x|y|z)_)?velocity(_in_(air|water|oil))?$\""
   ]
  },
  {
   "cell_type": "code",
   "execution_count": null,
   "id": "cba6bdb1-6e1a-47c3-abf4-988496ffd743",
   "metadata": {},
   "outputs": [],
   "source": [
    "verify_standard_name_with_regex(\"velocity_in_oil\")"
   ]
  },
  {
   "cell_type": "code",
   "execution_count": null,
   "id": "f82d6060-a85e-4d9e-acf2-c0aa89c6f109",
   "metadata": {},
   "outputs": [],
   "source": [
    "orig_pattern = r\"(toa|tropopause|surface)?_?((x|y|z)_)?_?velocity$\""
   ]
  },
  {
   "cell_type": "code",
   "execution_count": null,
   "id": "a7b63196-8004-4555-9c9e-a12144474bd3",
   "metadata": {},
   "outputs": [],
   "source": [
    "pattern = orig_pattern.replace(\"standard_name\", \"velocity\")\n",
    "pattern"
   ]
  },
  {
   "cell_type": "code",
   "execution_count": null,
   "id": "4446a55f-701f-4726-a5a4-c37c880f8db5",
   "metadata": {},
   "outputs": [],
   "source": [
    "orig_pattern = \"^(toa|tropopause|surface)?_?(upward|downward|northward|southward|eastward|westward|x|y)?_?standard_name_?(at_(adiabatic_condensation_level|cloud_top|convective_cloud_top|cloud_base|convective_cloud_base|freezing_level|ground_level|maximum_wind_speed_level|sea_floor|sea_ice_base|sea_level|top_of_atmosphere_boundary_layer|top_of_atmosphere_model|top_of_dry_convection))$\""
   ]
  },
  {
   "cell_type": "code",
   "execution_count": null,
   "id": "526f4cc1-db9f-44bf-91d0-49205a6f6b43",
   "metadata": {},
   "outputs": [],
   "source": [
    "\"^(toa|tropopause|surface)?_?(upward|downward|northward|southward|eastward|westward|x|y)?_?velocity_?(at_adiabatic_condensation_level|at_cloud_top)?$\""
   ]
  },
  {
   "cell_type": "code",
   "execution_count": null,
   "id": "dabc8b12-b378-4b40-b520-10e1913562a5",
   "metadata": {},
   "outputs": [],
   "source": [
    "pattern = orig_pattern.replace(\"standard_name\", \"velocity\")\n",
    "pattern"
   ]
  },
  {
   "cell_type": "code",
   "execution_count": null,
   "id": "13be727e-34a2-4b06-b6f3-bd7ad4bfb986",
   "metadata": {},
   "outputs": [],
   "source": [
    "def verify_standard_name_with_regex(standard_name):\n",
    "    if re.match(pattern, standard_name):\n",
    "        return f\"'{standard_name}' is a valid standard name.\"\n",
    "    else:\n",
    "        return f\"'{standard_name}' is NOT a valid standard name.\""
   ]
  },
  {
   "cell_type": "code",
   "execution_count": null,
   "id": "2dc86289-e6d4-48ee-94d6-db3b1961b5e1",
   "metadata": {},
   "outputs": [],
   "source": [
    "pattern"
   ]
  },
  {
   "cell_type": "code",
   "execution_count": null,
   "id": "43b822ce-e5da-4d6a-b67a-ddc4920c2932",
   "metadata": {},
   "outputs": [],
   "source": [
    "verify_standard_name_with_regex(\"toa_velocity_at_adiabatic_condensation_level\")"
   ]
  },
  {
   "cell_type": "code",
   "execution_count": null,
   "id": "c7d47c79-4b9c-4087-82b4-ca673d54e9f7",
   "metadata": {},
   "outputs": [],
   "source": [
    "import re\n",
    "\n",
    "# Define the refined regex pattern\n",
    "# pattern = r'^(?:toa|tropopause|surface)?(?:_?(?:upward|downward|northward|southward|eastward|westward|x|y))?_?air_pressure(?:_at_(adiabatic_condensation_level|cloud_top|convective_cloud_top|cloud_base|convective_cloud_base|freezing_level|ground_level|maximum_wind_speed_level|sea_floor|sea_ice_base|sea_level|top_of_atmosphere_boundary_layer|top_of_atmosphere_model|top_of_dry_convection))?(?:_in_(air|atmosphere_boundary_layer|mesosphere|sea_ice|sea_water|soil|soil_water|stratosphere|thermosphere|troposphere))?(?:_due_to_(advection|convection|deep_convection|diabatic_processes|diffusion|dry_convection|gravity_wave_drag|gyre|isostatic_adjustment|large_scale_precipitation|longwave_heating|moist_convection|overturning|shallow_convection|shortwave_heating|thermodynamics))?(?:_assuming_(clear_sky|deep_snow|no_snow))?$'\n",
    "pattern = r'^(?:toa|tropopause|surface)?_?(?:upward|downward|northward|southward|eastward|westward|x|y)?_?standard_name(?:_(?:at_adiabatic_condensation_level|at_cloud_top|at_convective_cloud_top|at_cloud_base|at_convective_cloud_base|at_freezing_level|at_ground_level|at_maximum_wind_speed_level|at_sea_floor|at_sea_ice_base|at_sea_level|at_top_of_atmosphere_boundary_layer|at_top_of_atmosphere_model|at_top_of_dry_convection))?$'\n",
    "# Function to verify the standard name using regex\n",
    "def verify_standard_name(standard_name):\n",
    "    if re.match(pattern, standard_name):\n",
    "        return f\"'{standard_name}' is a valid standard name.\"\n",
    "    else:\n",
    "        return f\"'{standard_name}' is not a valid standard name.\"\n",
    "\n",
    "# Test cases\n",
    "print(verify_standard_name(\"toa_upward_air_pressure_at_adiabatic_condensation_level\"))  # Expected: valid\n",
    "print(verify_standard_name(\"toa_upward_air_pressure_at_cloud_top\"))  # Expected: valid\n",
    "print(verify_standard_name(\"surface_air_pressure_in_sea_water_due_to_diffusion\"))  # Expected: valid\n",
    "print(verify_standard_name(\"air_pressure\"))  # Expected: valid (no qualifiers)\n"
   ]
  },
  {
   "cell_type": "code",
   "execution_count": null,
   "id": "b68f9ddf-7818-4614-a6c2-2b107dbc3ee0",
   "metadata": {},
   "outputs": [],
   "source": []
  }
 ],
 "metadata": {
  "kernelspec": {
   "display_name": "Python 3 (ipykernel)",
   "language": "python",
   "name": "python3"
  },
  "language_info": {
   "codemirror_mode": {
    "name": "ipython",
    "version": 3
   },
   "file_extension": ".py",
   "mimetype": "text/x-python",
   "name": "python",
   "nbconvert_exporter": "python",
   "pygments_lexer": "ipython3",
   "version": "3.8.19"
  }
 },
 "nbformat": 4,
 "nbformat_minor": 5
}
