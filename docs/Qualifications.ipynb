{
 "cells": [
  {
   "cell_type": "markdown",
   "id": "31212105-ce5d-4387-a366-d922d77ab77b",
   "metadata": {},
   "source": [
    "# Qualifications\n",
    "\n",
    "Qualifications are used to modify and hence create new standard names:"
   ]
  },
  {
   "cell_type": "code",
   "execution_count": 1,
   "id": "46e2b224-c2ba-41d7-9702-de765997aef0",
   "metadata": {},
   "outputs": [],
   "source": [
    "import ssnolib"
   ]
  },
  {
   "cell_type": "code",
   "execution_count": 2,
   "id": "4df777fc-2902-48a4-824d-e8c66b7c8465",
   "metadata": {},
   "outputs": [],
   "source": [
    "component = ssnolib.Qualification(name=\"component\", description=\"component of a vector\", hasValidValues=[\"x\", \"y\", \"z\"])"
   ]
  },
  {
   "cell_type": "markdown",
   "id": "a7622ae4-9eb1-4168-9ee4-1e596f86a442",
   "metadata": {},
   "source": [
    "A component must be sorted in list of Qualifications and around \"any standard name\", where \"any standard name\" stands for a standard name to be qualified. In our case, \"component\" should be placed in front of a standard name:"
   ]
  },
  {
   "cell_type": "code",
   "execution_count": 3,
   "id": "6202bc7b-c1c6-4d9e-bf8f-01804c546254",
   "metadata": {},
   "outputs": [],
   "source": [
    "component.before = ssnolib.SSNO.AnyStandardName"
   ]
  },
  {
   "cell_type": "code",
   "execution_count": 4,
   "id": "30ed7ef6-3e9d-4af6-bad7-6d052e1da84a",
   "metadata": {},
   "outputs": [],
   "source": [
    "snt = ssnolib.StandardNameTable()"
   ]
  },
  {
   "cell_type": "code",
   "execution_count": 5,
   "id": "49db54ab-0438-4d4e-a36d-d9b7b6ba858a",
   "metadata": {},
   "outputs": [],
   "source": [
    "snt.hasModifier = [component,]"
   ]
  },
  {
   "cell_type": "code",
   "execution_count": 6,
   "id": "d37d0b06-f1cb-458a-ba11-6b8f8e1fb2b0",
   "metadata": {},
   "outputs": [
    {
     "data": {
      "text/plain": [
       "'[component] standard_name'"
      ]
     },
     "execution_count": 6,
     "metadata": {},
     "output_type": "execute_result"
    }
   ],
   "source": [
    "snt.get_qualification_rule_as_string()"
   ]
  },
  {
   "cell_type": "code",
   "execution_count": 7,
   "id": "3ba94878-4727-4d61-95b5-3d92137a87a5",
   "metadata": {},
   "outputs": [
    {
     "name": "stdout",
     "output_type": "stream",
     "text": [
      "{\n",
      "    \"@context\": {\n",
      "        \"owl\": \"http://www.w3.org/2002/07/owl#\",\n",
      "        \"rdfs\": \"http://www.w3.org/2000/01/rdf-schema#\",\n",
      "        \"dcat\": \"http://www.w3.org/ns/dcat#\",\n",
      "        \"dcterms\": \"http://purl.org/dc/terms/\",\n",
      "        \"prov\": \"http://www.w3.org/ns/prov#\",\n",
      "        \"ssno\": \"https://matthiasprobst.github.io/ssno#\",\n",
      "        \"schema\": \"http://schema.org/\"\n",
      "    },\n",
      "    \"@type\": \"ssno:StandardNameTable\",\n",
      "    \"ssno:hasModifier\": [\n",
      "        {\n",
      "            \"@type\": \"ssno:Qualification\",\n",
      "            \"schema:name\": \"component\",\n",
      "            \"dcterms:description\": \"component of a vector\",\n",
      "            \"ssno:before\": \"https://matthiasprobst.github.io/ssno#AnyStandardName\",\n",
      "            \"ssno:hasValidValues\": [\n",
      "                {\n",
      "                    \"@type\": \"ssno:AnnotatedValue\",\n",
      "                    \"ssno:value\": \"x\",\n",
      "                    \"ssno:annotation\": \"No description available.\",\n",
      "                    \"@id\": \"_:N8c91c3aa8cd34d069cfe1e183bec33f7\"\n",
      "                },\n",
      "                {\n",
      "                    \"@type\": \"ssno:AnnotatedValue\",\n",
      "                    \"ssno:value\": \"y\",\n",
      "                    \"ssno:annotation\": \"No description available.\",\n",
      "                    \"@id\": \"_:N1f6cd687d0594bf0a67f9f9e308d1601\"\n",
      "                },\n",
      "                {\n",
      "                    \"@type\": \"ssno:AnnotatedValue\",\n",
      "                    \"ssno:value\": \"z\",\n",
      "                    \"ssno:annotation\": \"No description available.\",\n",
      "                    \"@id\": \"_:N95f60dc3920f42f28307f784590be891\"\n",
      "                }\n",
      "            ],\n",
      "            \"@id\": \"_:Nc08e5955d6414d09ac23e9ce20397064\"\n",
      "        }\n",
      "    ],\n",
      "    \"@id\": \"_:N969424f3026e46e49949d31154908b00\"\n",
      "}\n"
     ]
    }
   ],
   "source": [
    "print(snt.model_dump_jsonld())"
   ]
  },
  {
   "cell_type": "code",
   "execution_count": null,
   "id": "015d328e-7e45-4e47-b470-dc072ac18b3a",
   "metadata": {},
   "outputs": [],
   "source": []
  }
 ],
 "metadata": {
  "kernelspec": {
   "display_name": "Python 3 (ipykernel)",
   "language": "python",
   "name": "python3"
  },
  "language_info": {
   "codemirror_mode": {
    "name": "ipython",
    "version": 3
   },
   "file_extension": ".py",
   "mimetype": "text/x-python",
   "name": "python",
   "nbconvert_exporter": "python",
   "pygments_lexer": "ipython3",
   "version": "3.8.19"
  }
 },
 "nbformat": 4,
 "nbformat_minor": 5
}
